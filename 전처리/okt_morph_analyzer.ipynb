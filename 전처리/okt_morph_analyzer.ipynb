{
 "cells": [
  {
   "cell_type": "code",
   "execution_count": 1,
   "metadata": {},
   "outputs": [
    {
     "name": "stderr",
     "output_type": "stream",
     "text": [
      "/Users/sh/opt/anaconda3/lib/python3.8/site-packages/tqdm/std.py:668: FutureWarning: The Panel class is removed from pandas. Accessing it from the top-level namespace will also be removed in the next version\n",
      "  from pandas import Panel\n"
     ]
    },
    {
     "data": {
      "text/html": [
       "<div>\n",
       "<style scoped>\n",
       "    .dataframe tbody tr th:only-of-type {\n",
       "        vertical-align: middle;\n",
       "    }\n",
       "\n",
       "    .dataframe tbody tr th {\n",
       "        vertical-align: top;\n",
       "    }\n",
       "\n",
       "    .dataframe thead th {\n",
       "        text-align: right;\n",
       "    }\n",
       "</style>\n",
       "<table border=\"1\" class=\"dataframe\">\n",
       "  <thead>\n",
       "    <tr style=\"text-align: right;\">\n",
       "      <th></th>\n",
       "      <th>Sentence</th>\n",
       "    </tr>\n",
       "  </thead>\n",
       "  <tbody>\n",
       "    <tr>\n",
       "      <th>0</th>\n",
       "      <td>아 죽통 트라우마 있음ㅋㅋㅋㅋㅋㅋ 메성 누가 생각해냇냐 진자ㅠㅠㅠㅠ 빨드릴 유사 힛...</td>\n",
       "    </tr>\n",
       "    <tr>\n",
       "      <th>1</th>\n",
       "      <td>한평생 피지컬로는 누구한테도 지지 않던 유중혁 김독자 흑염룡 보고 처음으로 패배감을...</td>\n",
       "    </tr>\n",
       "    <tr>\n",
       "      <th>2</th>\n",
       "      <td>조금 더 생각해봐야겠지만 그런 일을 겪으면 지금까지 소퍄가 하퍼를 어느정도 이끌어야...</td>\n",
       "    </tr>\n",
       "    <tr>\n",
       "      <th>3</th>\n",
       "      <td>불가사의나 비인도적인 것이라 칭하는 것도 공포와 경외를 바치는 것도 먼 나라의 이야...</td>\n",
       "    </tr>\n",
       "    <tr>\n",
       "      <th>4</th>\n",
       "      <td>어제브이앱했다고나지금충격과공포임왜알림안뜨노근데나눈알아파서영상은아직오래못봐라디오처럼들...</td>\n",
       "    </tr>\n",
       "  </tbody>\n",
       "</table>\n",
       "</div>"
      ],
      "text/plain": [
       "                                            Sentence\n",
       "0  아 죽통 트라우마 있음ㅋㅋㅋㅋㅋㅋ 메성 누가 생각해냇냐 진자ㅠㅠㅠㅠ 빨드릴 유사 힛...\n",
       "1  한평생 피지컬로는 누구한테도 지지 않던 유중혁 김독자 흑염룡 보고 처음으로 패배감을...\n",
       "2  조금 더 생각해봐야겠지만 그런 일을 겪으면 지금까지 소퍄가 하퍼를 어느정도 이끌어야...\n",
       "3  불가사의나 비인도적인 것이라 칭하는 것도 공포와 경외를 바치는 것도 먼 나라의 이야...\n",
       "4  어제브이앱했다고나지금충격과공포임왜알림안뜨노근데나눈알아파서영상은아직오래못봐라디오처럼들..."
      ]
     },
     "execution_count": 1,
     "metadata": {},
     "output_type": "execute_result"
    }
   ],
   "source": [
    "import pandas as pd\n",
    "from tqdm import tqdm\n",
    "from konlpy.tag import Okt\n",
    "\n",
    "tqdm.pandas()\n",
    "okt = Okt()\n",
    "\n",
    "horor = pd.read_excel('./data/tweet_list_공포_완료.xlsx')\n",
    "horor = horor[horor['Label'] == 1].reset_index()\n",
    "horor = pd.DataFrame(horor['Sentence'])\n",
    "horor.head()"
   ]
  },
  {
   "cell_type": "code",
   "execution_count": 2,
   "metadata": {},
   "outputs": [],
   "source": [
    "def analyze_morphs(x):\n",
    "    morphs = []\n",
    "    sentence = x['Sentence']\n",
    "    result = okt.pos(sentence)\n",
    "    morphs = result\n",
    "    \n",
    "    return morphs"
   ]
  },
  {
   "cell_type": "code",
   "execution_count": 3,
   "metadata": {},
   "outputs": [
    {
     "name": "stderr",
     "output_type": "stream",
     "text": [
      "100%|██████████| 1098/1098 [00:06<00:00, 179.39it/s]\n"
     ]
    },
    {
     "data": {
      "text/html": [
       "<div>\n",
       "<style scoped>\n",
       "    .dataframe tbody tr th:only-of-type {\n",
       "        vertical-align: middle;\n",
       "    }\n",
       "\n",
       "    .dataframe tbody tr th {\n",
       "        vertical-align: top;\n",
       "    }\n",
       "\n",
       "    .dataframe thead th {\n",
       "        text-align: right;\n",
       "    }\n",
       "</style>\n",
       "<table border=\"1\" class=\"dataframe\">\n",
       "  <thead>\n",
       "    <tr style=\"text-align: right;\">\n",
       "      <th></th>\n",
       "      <th>Sentence</th>\n",
       "      <th>morphs</th>\n",
       "    </tr>\n",
       "  </thead>\n",
       "  <tbody>\n",
       "    <tr>\n",
       "      <th>0</th>\n",
       "      <td>아 죽통 트라우마 있음ㅋㅋㅋㅋㅋㅋ 메성 누가 생각해냇냐 진자ㅠㅠㅠㅠ 빨드릴 유사 힛...</td>\n",
       "      <td>[(아, Exclamation), (죽통, Noun), (트라우마, Noun), (...</td>\n",
       "    </tr>\n",
       "    <tr>\n",
       "      <th>1</th>\n",
       "      <td>한평생 피지컬로는 누구한테도 지지 않던 유중혁 김독자 흑염룡 보고 처음으로 패배감을...</td>\n",
       "      <td>[(한평생, Noun), (피지, Noun), (컬, Noun), (로는, Josa...</td>\n",
       "    </tr>\n",
       "    <tr>\n",
       "      <th>2</th>\n",
       "      <td>조금 더 생각해봐야겠지만 그런 일을 겪으면 지금까지 소퍄가 하퍼를 어느정도 이끌어야...</td>\n",
       "      <td>[(조금, Noun), (더, Noun), (생각, Noun), (해봐야겠지만, V...</td>\n",
       "    </tr>\n",
       "    <tr>\n",
       "      <th>3</th>\n",
       "      <td>불가사의나 비인도적인 것이라 칭하는 것도 공포와 경외를 바치는 것도 먼 나라의 이야...</td>\n",
       "      <td>[(불가사의, Noun), (나, Josa), (비인도적, Noun), (인, Jo...</td>\n",
       "    </tr>\n",
       "    <tr>\n",
       "      <th>4</th>\n",
       "      <td>어제브이앱했다고나지금충격과공포임왜알림안뜨노근데나눈알아파서영상은아직오래못봐라디오처럼들...</td>\n",
       "      <td>[(어제, Noun), (브이, Noun), (앱, Noun), (했다고나, Ver...</td>\n",
       "    </tr>\n",
       "  </tbody>\n",
       "</table>\n",
       "</div>"
      ],
      "text/plain": [
       "                                            Sentence  \\\n",
       "0  아 죽통 트라우마 있음ㅋㅋㅋㅋㅋㅋ 메성 누가 생각해냇냐 진자ㅠㅠㅠㅠ 빨드릴 유사 힛...   \n",
       "1  한평생 피지컬로는 누구한테도 지지 않던 유중혁 김독자 흑염룡 보고 처음으로 패배감을...   \n",
       "2  조금 더 생각해봐야겠지만 그런 일을 겪으면 지금까지 소퍄가 하퍼를 어느정도 이끌어야...   \n",
       "3  불가사의나 비인도적인 것이라 칭하는 것도 공포와 경외를 바치는 것도 먼 나라의 이야...   \n",
       "4  어제브이앱했다고나지금충격과공포임왜알림안뜨노근데나눈알아파서영상은아직오래못봐라디오처럼들...   \n",
       "\n",
       "                                              morphs  \n",
       "0  [(아, Exclamation), (죽통, Noun), (트라우마, Noun), (...  \n",
       "1  [(한평생, Noun), (피지, Noun), (컬, Noun), (로는, Josa...  \n",
       "2  [(조금, Noun), (더, Noun), (생각, Noun), (해봐야겠지만, V...  \n",
       "3  [(불가사의, Noun), (나, Josa), (비인도적, Noun), (인, Jo...  \n",
       "4  [(어제, Noun), (브이, Noun), (앱, Noun), (했다고나, Ver...  "
      ]
     },
     "execution_count": 3,
     "metadata": {},
     "output_type": "execute_result"
    }
   ],
   "source": [
    "horor['morphs'] = horor.progress_apply(analyze_morphs, axis=1)\n",
    "horor.to_pickle(\"./okt_results/공포.pkl\")\n",
    "horor.head()"
   ]
  },
  {
   "cell_type": "code",
   "execution_count": 4,
   "metadata": {},
   "outputs": [],
   "source": [
    "petulance = pd.read_excel('./data/tweet_list_짜증_완료.xlsx')\n",
    "petulance.columns = ['_', 'Sentence']\n",
    "petulance = pd.DataFrame(petulance['Sentence'])"
   ]
  },
  {
   "cell_type": "code",
   "execution_count": 5,
   "metadata": {},
   "outputs": [
    {
     "name": "stderr",
     "output_type": "stream",
     "text": [
      "100%|██████████| 8250/8250 [00:17<00:00, 461.77it/s]\n"
     ]
    }
   ],
   "source": [
    "petulance['morphs'] = petulance.progress_apply(analyze_morphs, axis=1)\n",
    "petulance.to_pickle(\"./okt_results/짜증.pkl\")"
   ]
  },
  {
   "cell_type": "code",
   "execution_count": 6,
   "metadata": {},
   "outputs": [],
   "source": [
    "hate = pd.read_excel('./data/tweet_list_극혐_완료.xlsx')\n",
    "hate.columns = ['_', 'Sentence', 'Label']\n",
    "hate = hate[hate['Label'] == 1].reset_index()\n",
    "hate = pd.DataFrame(hate['Sentence'])"
   ]
  },
  {
   "cell_type": "code",
   "execution_count": 7,
   "metadata": {},
   "outputs": [
    {
     "name": "stderr",
     "output_type": "stream",
     "text": [
      "100%|██████████| 1237/1237 [00:01<00:00, 754.61it/s]\n"
     ]
    }
   ],
   "source": [
    "hate['morphs'] = hate.progress_apply(analyze_morphs, axis=1)\n",
    "hate.to_pickle('./okt_results/극혐.pkl')"
   ]
  },
  {
   "cell_type": "code",
   "execution_count": 8,
   "metadata": {},
   "outputs": [],
   "source": [
    "very_good = pd.read_excel('./data/tweet_list_존나 좋아_완료.xlsx')\n",
    "very_good.columns = ['_', 'Sentence', 'Label']\n",
    "very_good = very_good[very_good['Label'] == 1].reset_index()\n",
    "very_good = pd.DataFrame(very_good['Sentence'])"
   ]
  },
  {
   "cell_type": "code",
   "execution_count": 11,
   "metadata": {},
   "outputs": [
    {
     "name": "stderr",
     "output_type": "stream",
     "text": [
      "100%|██████████| 2844/2844 [00:06<00:00, 441.40it/s]\n"
     ]
    }
   ],
   "source": [
    "very_good['morphs'] = very_good.progress_apply(analyze_morphs, axis=1)\n",
    "very_good.to_pickle('./okt_results/존나 좋아.pkl')"
   ]
  },
  {
   "cell_type": "code",
   "execution_count": 12,
   "metadata": {},
   "outputs": [
    {
     "data": {
      "text/html": [
       "<div>\n",
       "<style scoped>\n",
       "    .dataframe tbody tr th:only-of-type {\n",
       "        vertical-align: middle;\n",
       "    }\n",
       "\n",
       "    .dataframe tbody tr th {\n",
       "        vertical-align: top;\n",
       "    }\n",
       "\n",
       "    .dataframe thead th {\n",
       "        text-align: right;\n",
       "    }\n",
       "</style>\n",
       "<table border=\"1\" class=\"dataframe\">\n",
       "  <thead>\n",
       "    <tr style=\"text-align: right;\">\n",
       "      <th></th>\n",
       "      <th>Sentence</th>\n",
       "    </tr>\n",
       "  </thead>\n",
       "  <tbody>\n",
       "    <tr>\n",
       "      <th>0</th>\n",
       "      <td>아침에 일어나자마자 소별이의 글을 봤어 날이 좋아 기분 좋게 일어났는데 추가로 기쁨...</td>\n",
       "    </tr>\n",
       "    <tr>\n",
       "      <th>1</th>\n",
       "      <td>미구하라 여행용키트 나왔는데 정품으로 꽉꽉 채워서 받을 수 있대요 월말까지만 요 가...</td>\n",
       "    </tr>\n",
       "    <tr>\n",
       "      <th>2</th>\n",
       "      <td>변해버린 나날들 가운데 변하지 않은 한 가지를 더 발견한 쟈칼은 순수한 기쁨을 내보...</td>\n",
       "    </tr>\n",
       "    <tr>\n",
       "      <th>3</th>\n",
       "      <td>어린이발레단 느낌</td>\n",
       "    </tr>\n",
       "    <tr>\n",
       "      <th>4</th>\n",
       "      <td>엄잠후ㅋㅋ 너무 귀엽고 센스 있어</td>\n",
       "    </tr>\n",
       "  </tbody>\n",
       "</table>\n",
       "</div>"
      ],
      "text/plain": [
       "                                            Sentence\n",
       "0  아침에 일어나자마자 소별이의 글을 봤어 날이 좋아 기분 좋게 일어났는데 추가로 기쁨...\n",
       "1  미구하라 여행용키트 나왔는데 정품으로 꽉꽉 채워서 받을 수 있대요 월말까지만 요 가...\n",
       "2  변해버린 나날들 가운데 변하지 않은 한 가지를 더 발견한 쟈칼은 순수한 기쁨을 내보...\n",
       "3                                          어린이발레단 느낌\n",
       "4                                 엄잠후ㅋㅋ 너무 귀엽고 센스 있어"
      ]
     },
     "execution_count": 12,
     "metadata": {},
     "output_type": "execute_result"
    }
   ],
   "source": [
    "Pleasure = pd.read_excel('./data/tweet_list_기쁨 labeling_완료.xlsx')\n",
    "Pleasure.columns = ['_', 'Sentence', 'Label']\n",
    "Pleasure = pd.DataFrame(Pleasure['Sentence'])\n",
    "Pleasure.head()"
   ]
  },
  {
   "cell_type": "code",
   "execution_count": 14,
   "metadata": {},
   "outputs": [
    {
     "name": "stderr",
     "output_type": "stream",
     "text": [
      "100%|██████████| 2844/2844 [00:06<00:00, 473.13it/s]\n"
     ]
    },
    {
     "data": {
      "text/html": [
       "<div>\n",
       "<style scoped>\n",
       "    .dataframe tbody tr th:only-of-type {\n",
       "        vertical-align: middle;\n",
       "    }\n",
       "\n",
       "    .dataframe tbody tr th {\n",
       "        vertical-align: top;\n",
       "    }\n",
       "\n",
       "    .dataframe thead th {\n",
       "        text-align: right;\n",
       "    }\n",
       "</style>\n",
       "<table border=\"1\" class=\"dataframe\">\n",
       "  <thead>\n",
       "    <tr style=\"text-align: right;\">\n",
       "      <th></th>\n",
       "      <th>Sentence</th>\n",
       "      <th>morphs</th>\n",
       "    </tr>\n",
       "  </thead>\n",
       "  <tbody>\n",
       "    <tr>\n",
       "      <th>0</th>\n",
       "      <td>아침에 일어나자마자 소별이의 글을 봤어 날이 좋아 기분 좋게 일어났는데 추가로 기쁨...</td>\n",
       "      <td>[(근데, Adverb), (조슈, Noun), (프라, Noun), (좀, Nou...</td>\n",
       "    </tr>\n",
       "    <tr>\n",
       "      <th>1</th>\n",
       "      <td>미구하라 여행용키트 나왔는데 정품으로 꽉꽉 채워서 받을 수 있대요 월말까지만 요 가...</td>\n",
       "      <td>[(아, Exclamation), (오팔, Noun), (은, Josa), (좋은데...</td>\n",
       "    </tr>\n",
       "    <tr>\n",
       "      <th>2</th>\n",
       "      <td>변해버린 나날들 가운데 변하지 않은 한 가지를 더 발견한 쟈칼은 순수한 기쁨을 내보...</td>\n",
       "      <td>[(뭐, Noun), (존나, Noun), (좋아, Adjective)]</td>\n",
       "    </tr>\n",
       "    <tr>\n",
       "      <th>3</th>\n",
       "      <td>어린이발레단 느낌</td>\n",
       "      <td>[(허흐허, Noun), (ㅓ, KoreanParticle), (으러러, Noun)...</td>\n",
       "    </tr>\n",
       "    <tr>\n",
       "      <th>4</th>\n",
       "      <td>엄잠후ㅋㅋ 너무 귀엽고 센스 있어</td>\n",
       "      <td>[(아, Exclamation), (근데, Adverb), (진짜, Noun), (...</td>\n",
       "    </tr>\n",
       "  </tbody>\n",
       "</table>\n",
       "</div>"
      ],
      "text/plain": [
       "                                            Sentence  \\\n",
       "0  아침에 일어나자마자 소별이의 글을 봤어 날이 좋아 기분 좋게 일어났는데 추가로 기쁨...   \n",
       "1  미구하라 여행용키트 나왔는데 정품으로 꽉꽉 채워서 받을 수 있대요 월말까지만 요 가...   \n",
       "2  변해버린 나날들 가운데 변하지 않은 한 가지를 더 발견한 쟈칼은 순수한 기쁨을 내보...   \n",
       "3                                          어린이발레단 느낌   \n",
       "4                                 엄잠후ㅋㅋ 너무 귀엽고 센스 있어   \n",
       "\n",
       "                                              morphs  \n",
       "0  [(근데, Adverb), (조슈, Noun), (프라, Noun), (좀, Nou...  \n",
       "1  [(아, Exclamation), (오팔, Noun), (은, Josa), (좋은데...  \n",
       "2           [(뭐, Noun), (존나, Noun), (좋아, Adjective)]  \n",
       "3  [(허흐허, Noun), (ㅓ, KoreanParticle), (으러러, Noun)...  \n",
       "4  [(아, Exclamation), (근데, Adverb), (진짜, Noun), (...  "
      ]
     },
     "execution_count": 14,
     "metadata": {},
     "output_type": "execute_result"
    }
   ],
   "source": [
    "Pleasure['morphs'] = very_good.progress_apply(analyze_morphs, axis=1)\n",
    "Pleasure.to_pickle('./okt_results/기쁨.pkl')\n",
    "Pleasure.head()"
   ]
  },
  {
   "cell_type": "code",
   "execution_count": 12,
   "metadata": {},
   "outputs": [],
   "source": [
    "anger = pd.read_excel('./data/tweet_list_화남_완료.xlsx')\n",
    "anger.columns = ['_', 'Sentence', 'Label']\n",
    "anger = anger.dropna(axis=0).reset_index()\n",
    "anger = pd.DataFrame(anger['Sentence'])"
   ]
  },
  {
   "cell_type": "code",
   "execution_count": 13,
   "metadata": {},
   "outputs": [
    {
     "name": "stderr",
     "output_type": "stream",
     "text": [
      "100%|██████████| 1140/1140 [00:02<00:00, 400.17it/s]\n"
     ]
    }
   ],
   "source": [
    "anger['morphs'] = anger.progress_apply(analyze_morphs, axis=1)\n",
    "anger.to_pickle('./okt_results/화남.pkl')"
   ]
  },
  {
   "cell_type": "code",
   "execution_count": 17,
   "metadata": {},
   "outputs": [
    {
     "data": {
      "text/html": [
       "<div>\n",
       "<style scoped>\n",
       "    .dataframe tbody tr th:only-of-type {\n",
       "        vertical-align: middle;\n",
       "    }\n",
       "\n",
       "    .dataframe tbody tr th {\n",
       "        vertical-align: top;\n",
       "    }\n",
       "\n",
       "    .dataframe thead th {\n",
       "        text-align: right;\n",
       "    }\n",
       "</style>\n",
       "<table border=\"1\" class=\"dataframe\">\n",
       "  <thead>\n",
       "    <tr style=\"text-align: right;\">\n",
       "      <th></th>\n",
       "      <th>Sentence</th>\n",
       "    </tr>\n",
       "  </thead>\n",
       "  <tbody>\n",
       "    <tr>\n",
       "      <th>0</th>\n",
       "      <td>오프라인설명서 울고싶다 이년전의 내가 이런걸 하고 다녔다는 사실이 너무 슬픔 자살하...</td>\n",
       "    </tr>\n",
       "    <tr>\n",
       "      <th>1</th>\n",
       "      <td>오ㅑ 간간이 트친소가 보이죠 조금 슬픔</td>\n",
       "    </tr>\n",
       "    <tr>\n",
       "      <th>2</th>\n",
       "      <td>온 오늘 어몽어스 못해서 슬픔</td>\n",
       "    </tr>\n",
       "    <tr>\n",
       "      <th>3</th>\n",
       "      <td>온갖 후회와 아쉬움과 슬픔이 뒤섞인듯한 마지막컷</td>\n",
       "    </tr>\n",
       "    <tr>\n",
       "      <th>4</th>\n",
       "      <td>올 월에 본 작은아씨들의 여운이 아직 채 가지 않았다는 소식인데요 하 덕톡할 사람이...</td>\n",
       "    </tr>\n",
       "  </tbody>\n",
       "</table>\n",
       "</div>"
      ],
      "text/plain": [
       "                                            Sentence\n",
       "0  오프라인설명서 울고싶다 이년전의 내가 이런걸 하고 다녔다는 사실이 너무 슬픔 자살하...\n",
       "1                              오ㅑ 간간이 트친소가 보이죠 조금 슬픔\n",
       "2                                   온 오늘 어몽어스 못해서 슬픔\n",
       "3                         온갖 후회와 아쉬움과 슬픔이 뒤섞인듯한 마지막컷\n",
       "4  올 월에 본 작은아씨들의 여운이 아직 채 가지 않았다는 소식인데요 하 덕톡할 사람이..."
      ]
     },
     "execution_count": 17,
     "metadata": {},
     "output_type": "execute_result"
    }
   ],
   "source": [
    "Sadness = pd.read_excel('./data/tweet_list_슬픔_5001부터_완료.xlsx')\n",
    "Sadness = Sadness[Sadness['Label'] == 1].reset_index()\n",
    "Sadness = pd.DataFrame(Sadness['Sentence'])\n",
    "# hate.columns = ['_', 'Sentence']\n",
    "# hate = pd.DataFrame(hate['Sentence'])\n",
    "Sadness.head()"
   ]
  },
  {
   "cell_type": "code",
   "execution_count": 18,
   "metadata": {},
   "outputs": [
    {
     "name": "stderr",
     "output_type": "stream",
     "text": [
      "100%|██████████| 874/874 [00:01<00:00, 536.64it/s]\n"
     ]
    },
    {
     "data": {
      "text/html": [
       "<div>\n",
       "<style scoped>\n",
       "    .dataframe tbody tr th:only-of-type {\n",
       "        vertical-align: middle;\n",
       "    }\n",
       "\n",
       "    .dataframe tbody tr th {\n",
       "        vertical-align: top;\n",
       "    }\n",
       "\n",
       "    .dataframe thead th {\n",
       "        text-align: right;\n",
       "    }\n",
       "</style>\n",
       "<table border=\"1\" class=\"dataframe\">\n",
       "  <thead>\n",
       "    <tr style=\"text-align: right;\">\n",
       "      <th></th>\n",
       "      <th>Sentence</th>\n",
       "      <th>morphs</th>\n",
       "    </tr>\n",
       "  </thead>\n",
       "  <tbody>\n",
       "    <tr>\n",
       "      <th>0</th>\n",
       "      <td>오프라인설명서 울고싶다 이년전의 내가 이런걸 하고 다녔다는 사실이 너무 슬픔 자살하...</td>\n",
       "      <td>[(오프라인, Noun), (설명, Noun), (서, Josa), (울고싶다, V...</td>\n",
       "    </tr>\n",
       "    <tr>\n",
       "      <th>1</th>\n",
       "      <td>오ㅑ 간간이 트친소가 보이죠 조금 슬픔</td>\n",
       "      <td>[(오, Noun), (ㅑ, KoreanParticle), (간간이, Noun), ...</td>\n",
       "    </tr>\n",
       "    <tr>\n",
       "      <th>2</th>\n",
       "      <td>온 오늘 어몽어스 못해서 슬픔</td>\n",
       "      <td>[(온, Noun), (오늘, Noun), (어몽, Noun), (어스, Noun)...</td>\n",
       "    </tr>\n",
       "    <tr>\n",
       "      <th>3</th>\n",
       "      <td>온갖 후회와 아쉬움과 슬픔이 뒤섞인듯한 마지막컷</td>\n",
       "      <td>[(온갖, Noun), (후회, Noun), (와, Josa), (아쉬움, Noun...</td>\n",
       "    </tr>\n",
       "    <tr>\n",
       "      <th>4</th>\n",
       "      <td>올 월에 본 작은아씨들의 여운이 아직 채 가지 않았다는 소식인데요 하 덕톡할 사람이...</td>\n",
       "      <td>[(올, Verb), (월, Noun), (에, Josa), (본, Verb), (...</td>\n",
       "    </tr>\n",
       "  </tbody>\n",
       "</table>\n",
       "</div>"
      ],
      "text/plain": [
       "                                            Sentence  \\\n",
       "0  오프라인설명서 울고싶다 이년전의 내가 이런걸 하고 다녔다는 사실이 너무 슬픔 자살하...   \n",
       "1                              오ㅑ 간간이 트친소가 보이죠 조금 슬픔   \n",
       "2                                   온 오늘 어몽어스 못해서 슬픔   \n",
       "3                         온갖 후회와 아쉬움과 슬픔이 뒤섞인듯한 마지막컷   \n",
       "4  올 월에 본 작은아씨들의 여운이 아직 채 가지 않았다는 소식인데요 하 덕톡할 사람이...   \n",
       "\n",
       "                                              morphs  \n",
       "0  [(오프라인, Noun), (설명, Noun), (서, Josa), (울고싶다, V...  \n",
       "1  [(오, Noun), (ㅑ, KoreanParticle), (간간이, Noun), ...  \n",
       "2  [(온, Noun), (오늘, Noun), (어몽, Noun), (어스, Noun)...  \n",
       "3  [(온갖, Noun), (후회, Noun), (와, Josa), (아쉬움, Noun...  \n",
       "4  [(올, Verb), (월, Noun), (에, Josa), (본, Verb), (...  "
      ]
     },
     "execution_count": 18,
     "metadata": {},
     "output_type": "execute_result"
    }
   ],
   "source": [
    "Sadness['morphs'] = Sadness.progress_apply(analyze_morphs, axis=1)\n",
    "Sadness.to_pickle('./okt_results/슬픔.pkl')\n",
    "Sadness.head()"
   ]
  }
 ],
 "metadata": {
  "kernelspec": {
   "display_name": "Python 3",
   "language": "python",
   "name": "python3"
  },
  "language_info": {
   "codemirror_mode": {
    "name": "ipython",
    "version": 3
   },
   "file_extension": ".py",
   "mimetype": "text/x-python",
   "name": "python",
   "nbconvert_exporter": "python",
   "pygments_lexer": "ipython3",
   "version": "3.8.3"
  }
 },
 "nbformat": 4,
 "nbformat_minor": 4
}
