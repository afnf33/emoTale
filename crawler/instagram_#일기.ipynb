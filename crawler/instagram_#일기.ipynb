{
 "cells": [
  {
   "cell_type": "code",
   "execution_count": 56,
   "metadata": {},
   "outputs": [],
   "source": [
    "import pandas as pd\n",
    "df = pd.DataFrame(texts)"
   ]
  },
  {
   "cell_type": "code",
   "execution_count": 9,
   "metadata": {},
   "outputs": [],
   "source": [
    "from unicodedata import normalize"
   ]
  },
  {
   "cell_type": "code",
   "execution_count": 13,
   "metadata": {},
   "outputs": [],
   "source": [
    "with open('instagram_#일기_7519.xlsx','w',encoding='utf-8') as f:\n",
    "    for i in range(len(texts)):\n",
    "        t = texts[i].replace('\\n',' ')#.replace('#',' ')\n",
    "        t = normalize('NFC', t)\n",
    "        f.write(t+'\\n')"
   ]
  },
  {
   "cell_type": "code",
   "execution_count": 67,
   "metadata": {},
   "outputs": [
    {
     "data": {
      "text/plain": [
       "'〰️\\n하프캣 서포터즈라니 ♡▽♡\\n하프캣상점(@halfc._.at)에서 받은 물품으로 다꾸해봤어요 ♡̴️\\n울타리도 직접 만들어 봤는데 어떤가요 크크 ٩(๑❛ᴗ❛๑)۶\\n비가 많이 와서 간단한 여행도 못가서 아쉬워요 ꔛ\\u202c'"
      ]
     },
     "execution_count": 67,
     "metadata": {},
     "output_type": "execute_result"
    }
   ],
   "source": [
    "texts[4]"
   ]
  },
  {
   "cell_type": "code",
   "execution_count": 70,
   "metadata": {},
   "outputs": [],
   "source": [
    "df.to_csv('insta_texts1.csv',encoding='utf-8')"
   ]
  },
  {
   "cell_type": "code",
   "execution_count": 72,
   "metadata": {},
   "outputs": [
    {
     "data": {
      "text/plain": [
       "'비 그만 오면 좋겠다...🤐\\n오랜만에 운동가니까 좋았다,,\\n회사일은 회사가 끝나고 나올때 딱 잊고,\\n그 이후로는 나한테 집중하는게 좋다는걸 배워가고 있는 요즘💃💃\\n.\\n.\\n.\\n.\\n.\\n#6공다이어리꾸미기\\n#스티커 #일기 #일상 #diary #일기장\\n#인스 #마테 #마스킹테이프 #다이어리쓰기 #drawing #드로잉\\n#illustration #일러스트\\n#다꾸 #다이어리 #다이어리꾸미기\\n#6공다이어리 #다이어리속지\\n#문구 #문구덕후 #문구스타그램\\n#다꾸스타그램 #디자인문구#문덕 #그림일기 #일기\\n#일상기록 #스크랩 #스크랩북'"
      ]
     },
     "execution_count": 72,
     "metadata": {},
     "output_type": "execute_result"
    }
   ],
   "source": [
    "normalize('NFC', texts[0])"
   ]
  },
  {
   "cell_type": "code",
   "execution_count": 82,
   "metadata": {},
   "outputs": [
    {
     "data": {
      "text/plain": [
       "'휴가중~❤ 오늘하루 배고픈채로 길을 1시간동안 찾고 기대하고 갓던 브런치..! 블로그 후기는 100%믿을게 못된다는 사실을 절실히 깨달은 오늘..!\\n.\\n.\\n#브런치카페 #브런치 #휴가중 #길잃음 #기대보단별로 #일기꾸미기 #일기장 #일기 #일꾸 #다꾸 #다꾸러 #다이어리꾸미기 #다이어리 #스티커 #심플 #여행 #스티코 #다이어리꾸미기그램 #다꾸러그램 #스티커꾸미기 #스티커덕후 #6공다이어리'"
      ]
     },
     "execution_count": 82,
     "metadata": {},
     "output_type": "execute_result"
    }
   ],
   "source": [
    "texts[98]"
   ]
  }
 ],
 "metadata": {
  "kernelspec": {
   "display_name": "Python 3",
   "language": "python",
   "name": "python3"
  },
  "language_info": {
   "codemirror_mode": {
    "name": "ipython",
    "version": 3
   },
   "file_extension": ".py",
   "mimetype": "text/x-python",
   "name": "python",
   "nbconvert_exporter": "python",
   "pygments_lexer": "ipython3",
   "version": "3.7.4"
  }
 },
 "nbformat": 4,
 "nbformat_minor": 4
}
