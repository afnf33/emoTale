{
 "cells": [
  {
   "cell_type": "code",
   "execution_count": 3,
   "metadata": {},
   "outputs": [],
   "source": [
    "try:\n",
    "    import GetOldTweets3 as got\n",
    "except:\n",
    "    !pip install GetOldTweets3\n",
    "    import GetOldTweets3 as got"
   ]
  },
  {
   "cell_type": "code",
   "execution_count": 4,
   "metadata": {},
   "outputs": [],
   "source": [
    "try:\n",
    "    from bs4 import BeautifulSoup\n",
    "except:\n",
    "    !pip install BeautifulSoup\n",
    "    from bs4 import BeautifulSoup"
   ]
  },
  {
   "cell_type": "code",
   "execution_count": 5,
   "metadata": {},
   "outputs": [],
   "source": [
    "from random import uniform\n",
    "from tqdm import tqdm_notebook\n",
    "import pandas as pd\n",
    "import re\n",
    "import string"
   ]
  },
  {
   "cell_type": "code",
   "execution_count": 6,
   "metadata": {},
   "outputs": [
    {
     "name": "stdout",
     "output_type": "stream",
     "text": [
      "=== 설정된 트윗 수집 기간은 2020-08-25 에서 2020-08-25까지 입니다. ===\n",
      "=== 총 1일 간의 데이터 수집 ===\n"
     ]
    }
   ],
   "source": [
    "import datetime\n",
    "\n",
    "days_range = []\n",
    "\n",
    "#수집 기간 설정\n",
    "start = datetime.datetime.strptime(\"2020-08-25\", \"%Y-%m-%d\")\n",
    "end = datetime.datetime.strptime(\"2020-08-26\", \"%Y-%m-%d\")\n",
    "date_generated = [start + datetime.timedelta(days=x) for x in range(0, (end-start).days)]\n",
    "\n",
    "for date in date_generated:\n",
    "    days_range.append(date.strftime(\"%Y-%m-%d\"))\n",
    "    \n",
    "print(\"=== 설정된 트윗 수집 기간은 {} 에서 {}까지 입니다. ===\".format(days_range[0], days_range[-1]))\n",
    "print(\"=== 총 {}일 간의 데이터 수집 ===\".format(len(days_range)))"
   ]
  },
  {
   "cell_type": "code",
   "execution_count": 8,
   "metadata": {
    "scrolled": true
   },
   "outputs": [
    {
     "name": "stdout",
     "output_type": "stream",
     "text": [
      "태풍\n",
      "Collecting data start.. from 2020-08-25 to 2020-08-25\n",
      "Collecting data end.. 27.84 Minutes\n",
      "=== Total num of tweets is 14011 ===\n"
     ]
    },
    {
     "name": "stderr",
     "output_type": "stream",
     "text": [
      "C:\\anaconda\\envs\\pytorch\\lib\\site-packages\\ipykernel_launcher.py:30: TqdmDeprecationWarning: This function will be removed in tqdm==5.0.0\n",
      "Please use `tqdm.notebook.tqdm` instead of `tqdm.tqdm_notebook`\n"
     ]
    },
    {
     "data": {
      "application/vnd.jupyter.widget-view+json": {
       "model_id": "5173240d96ff420d90f8d58726ac7c0e",
       "version_major": 2,
       "version_minor": 0
      },
      "text/plain": [
       "HBox(children=(FloatProgress(value=0.0, max=14011.0), HTML(value='')))"
      ]
     },
     "metadata": {},
     "output_type": "display_data"
    },
    {
     "name": "stdout",
     "output_type": "stream",
     "text": [
      "\n",
      "=== 13997 tweets are successfully saved ===\n"
     ]
    }
   ],
   "source": [
    "import time\n",
    "\n",
    "start_date = days_range[0]\n",
    "end_date = (datetime.datetime.strptime(days_range[-1], \"%Y-%m-%d\") \n",
    "            + datetime.timedelta(days=1)).strftime(\"%Y-%m-%d\")\n",
    "\n",
    "# 검색어 = #슬픔, #극혐, #무섭, 기쁨 \n",
    "# '극혐', '슬픔', '공포', '기쁨' 시신 or 살인 or 납치 or 유괴 or 변사체\n",
    "# 공포 정서에 공포영화를 넣어보는 것도 좋을 듯\n",
    "# 공포 - 뱀, 바퀴벌레, 바선생, 사이비, 공포증, 뱀, 거미, 악천후, 벌레\n",
    "# 5일치 - ㄱㅇㄷ:828, 무지개다리: 102, 딥빡: 367\n",
    "# 10일치 - 개빡: 1953\n",
    "#무지개다리 별로 -> 너무 적음, 유기견, 안락사로 대체\n",
    "search_word_list = ['태풍']\n",
    "for search_word in search_word_list:\n",
    "    print(search_word)\n",
    "    tweetCriteria = got.manager.TweetCriteria().setQuerySearch(search_word).setSince(start_date).setUntil(end_date).setMaxTweets(-1)\n",
    "    print(\"Collecting data start.. from {} to {}\".format(days_range[0], days_range[-1]))\n",
    "    start_time = time.time()\n",
    "\n",
    "    tweet = got.manager.TweetManager.getTweets(tweetCriteria)\n",
    "\n",
    "    print(\"Collecting data end.. {0:0.2f} Minutes\".format((time.time() - start_time)/60))\n",
    "    print(\"=== Total num of tweets is {} ===\".format(len(tweet)))\n",
    "    tweet_list = []\n",
    "\n",
    "\n",
    "    r = re.compile('#\\S+|^https?\\S+|@\\S+')\n",
    "    hangul = re.compile('[^ ㄱ-ㅣ가-힣|0-9|!$%&’()*+,.;<=>?\\^_`{|}~-]+')\n",
    "    for index in tqdm_notebook(tweet):\n",
    "        content = index.text\n",
    "        content = hangul.sub('',content)\n",
    "        content = re.sub(r, '', content)\n",
    "        content = re.sub('  +','',content)\n",
    "        if content != '' and content != ' ':\n",
    "            tweet_list.append(content)\n",
    "    \n",
    "    twitter_df = pd.DataFrame(tweet_list, columns = ['raw_text'])\n",
    "\n",
    "    twitter_df.to_excel(\"tweet_list_{}.xlsx\".format(search_word))\n",
    "    print(\"=== {} tweets are successfully saved ===\".format(len(tweet_list)))\n"
   ]
  },
  {
   "cell_type": "code",
   "execution_count": 4,
   "metadata": {
    "scrolled": true
   },
   "outputs": [
    {
     "ename": "NameError",
     "evalue": "name 'pd' is not defined",
     "output_type": "error",
     "traceback": [
      "\u001b[1;31m---------------------------------------------------------------------------\u001b[0m",
      "\u001b[1;31mNameError\u001b[0m                                 Traceback (most recent call last)",
      "\u001b[1;32m<ipython-input-4-e51f18a97907>\u001b[0m in \u001b[0;36m<module>\u001b[1;34m\u001b[0m\n\u001b[1;32m----> 1\u001b[1;33m \u001b[0mdf_tweet\u001b[0m \u001b[1;33m=\u001b[0m \u001b[0mpd\u001b[0m\u001b[1;33m.\u001b[0m\u001b[0mread_excel\u001b[0m\u001b[1;33m(\u001b[0m\u001b[1;34m\"tweet_list.xlsx\"\u001b[0m\u001b[1;33m)\u001b[0m\u001b[1;33m\u001b[0m\u001b[1;33m\u001b[0m\u001b[0m\n\u001b[0m\u001b[0;32m      2\u001b[0m \u001b[0mdf_tweet\u001b[0m\u001b[1;33m.\u001b[0m\u001b[0mhead\u001b[0m\u001b[1;33m(\u001b[0m\u001b[1;36m10\u001b[0m\u001b[1;33m)\u001b[0m\u001b[1;33m\u001b[0m\u001b[1;33m\u001b[0m\u001b[0m\n",
      "\u001b[1;31mNameError\u001b[0m: name 'pd' is not defined"
     ]
    }
   ],
   "source": [
    "df_tweet = pd.read_excel(\"tweet_list.xlsx\")\n",
    "df_tweet.head(10)"
   ]
  },
  {
   "cell_type": "code",
   "execution_count": null,
   "metadata": {},
   "outputs": [],
   "source": []
  },
  {
   "cell_type": "code",
   "execution_count": null,
   "metadata": {},
   "outputs": [],
   "source": []
  }
 ],
 "metadata": {
  "kernelspec": {
   "display_name": "Python 3",
   "language": "python",
   "name": "python3"
  },
  "language_info": {
   "codemirror_mode": {
    "name": "ipython",
    "version": 3
   },
   "file_extension": ".py",
   "mimetype": "text/x-python",
   "name": "python",
   "nbconvert_exporter": "python",
   "pygments_lexer": "ipython3",
   "version": "3.7.7"
  }
 },
 "nbformat": 4,
 "nbformat_minor": 4
}
