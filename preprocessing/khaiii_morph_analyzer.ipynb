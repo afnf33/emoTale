{
 "cells": [
  {
   "cell_type": "code",
   "execution_count": 1,
   "metadata": {},
   "outputs": [
    {
     "name": "stderr",
     "output_type": "stream",
     "text": [
      "/Users/sh/opt/anaconda3/lib/python3.8/site-packages/tqdm/std.py:668: FutureWarning: The Panel class is removed from pandas. Accessing it from the top-level namespace will also be removed in the next version\n",
      "  from pandas import Panel\n"
     ]
    }
   ],
   "source": [
    "import pandas as pd\n",
    "from tqdm import tqdm\n",
    "from khaiii import KhaiiiApi\n",
    "\n",
    "tqdm.pandas()\n",
    "api = KhaiiiApi()\n",
    "\n",
    "\n",
    "def analyze_morphs(x):\n",
    "    morphs = []\n",
    "    sentence = x['Sentence']\n",
    "    for word in api.analyze(sentence):\n",
    "        for morph in word.morphs:\n",
    "            morphs.append((morph.lex, morph.tag))\n",
    "            \n",
    "    return morphs\n",
    "\n",
    "horor = pd.read_excel('./data/tweet_list_공포_완료.xlsx')\n",
    "horor = horor[horor['Label'] == 1].reset_index()\n",
    "horor = pd.DataFrame(horor['Sentence'])"
   ]
  },
  {
   "cell_type": "code",
   "execution_count": 2,
   "metadata": {},
   "outputs": [
    {
     "name": "stderr",
     "output_type": "stream",
     "text": [
      "100%|██████████| 1098/1098 [00:01<00:00, 877.85it/s]\n"
     ]
    }
   ],
   "source": [
    "horor['morphs'] = horor.progress_apply(analyze_morphs, axis=1)\n",
    "horor.to_pickle('공포.pkl')"
   ]
  },
  {
   "cell_type": "code",
   "execution_count": 3,
   "metadata": {},
   "outputs": [],
   "source": [
    "petulance = pd.read_excel('./data/tweet_list_짜증_완료.xlsx')\n",
    "petulance.columns = ['_', 'Sentence']\n",
    "petulance = pd.DataFrame(petulance['Sentence'])"
   ]
  },
  {
   "cell_type": "code",
   "execution_count": 4,
   "metadata": {},
   "outputs": [
    {
     "name": "stderr",
     "output_type": "stream",
     "text": [
      "100%|██████████| 8250/8250 [00:07<00:00, 1057.85it/s]\n"
     ]
    }
   ],
   "source": [
    "petulance['morphs'] = petulance.progress_apply(analyze_morphs, axis=1)\n",
    "petulance.to_pickle('짜증.pkl')"
   ]
  },
  {
   "cell_type": "code",
   "execution_count": 5,
   "metadata": {},
   "outputs": [],
   "source": [
    "hate = pd.read_excel('./data/tweet_list_극혐_완료.xlsx')\n",
    "hate.columns = ['_', 'Sentence', 'Label']\n",
    "hate = hate[hate['Label'] == 1].reset_index()\n",
    "hate = pd.DataFrame(hate['Sentence'])"
   ]
  },
  {
   "cell_type": "code",
   "execution_count": 6,
   "metadata": {},
   "outputs": [
    {
     "name": "stderr",
     "output_type": "stream",
     "text": [
      "100%|██████████| 1237/1237 [00:00<00:00, 1303.27it/s]\n"
     ]
    }
   ],
   "source": [
    "hate['morphs'] = hate.progress_apply(analyze_morphs, axis=1)\n",
    "hate.to_pickle('극혐.pkl')"
   ]
  },
  {
   "cell_type": "code",
   "execution_count": 7,
   "metadata": {},
   "outputs": [],
   "source": [
    "very_good = pd.read_excel('./data/tweet_list_존나 좋아_완료.xlsx')\n",
    "very_good.columns = ['_', 'Sentence', 'Label']\n",
    "very_good = very_good[very_good['Label'] == 1].reset_index()\n",
    "very_good = pd.DataFrame(very_good['Sentence'])"
   ]
  },
  {
   "cell_type": "code",
   "execution_count": 8,
   "metadata": {},
   "outputs": [
    {
     "name": "stderr",
     "output_type": "stream",
     "text": [
      "100%|██████████| 2844/2844 [00:02<00:00, 1086.79it/s]\n"
     ]
    }
   ],
   "source": [
    "very_good['morphs'] = very_good.progress_apply(analyze_morphs, axis=1)\n",
    "very_good.to_pickle('존나 좋아.pkl')"
   ]
  },
  {
   "cell_type": "code",
   "execution_count": 72,
   "metadata": {},
   "outputs": [
    {
     "data": {
      "text/html": [
       "<div>\n",
       "<style scoped>\n",
       "    .dataframe tbody tr th:only-of-type {\n",
       "        vertical-align: middle;\n",
       "    }\n",
       "\n",
       "    .dataframe tbody tr th {\n",
       "        vertical-align: top;\n",
       "    }\n",
       "\n",
       "    .dataframe thead th {\n",
       "        text-align: right;\n",
       "    }\n",
       "</style>\n",
       "<table border=\"1\" class=\"dataframe\">\n",
       "  <thead>\n",
       "    <tr style=\"text-align: right;\">\n",
       "      <th></th>\n",
       "      <th>Sentence</th>\n",
       "    </tr>\n",
       "  </thead>\n",
       "  <tbody>\n",
       "    <tr>\n",
       "      <th>0</th>\n",
       "      <td>아침에 일어나자마자 소별이의 글을 봤어 날이 좋아 기분 좋게 일어났는데 추가로 기쁨...</td>\n",
       "    </tr>\n",
       "    <tr>\n",
       "      <th>1</th>\n",
       "      <td>미구하라 여행용키트 나왔는데 정품으로 꽉꽉 채워서 받을 수 있대요 월말까지만 요 가...</td>\n",
       "    </tr>\n",
       "    <tr>\n",
       "      <th>2</th>\n",
       "      <td>변해버린 나날들 가운데 변하지 않은 한 가지를 더 발견한 쟈칼은 순수한 기쁨을 내보...</td>\n",
       "    </tr>\n",
       "    <tr>\n",
       "      <th>3</th>\n",
       "      <td>어린이발레단 느낌</td>\n",
       "    </tr>\n",
       "    <tr>\n",
       "      <th>4</th>\n",
       "      <td>엄잠후ㅋㅋ 너무 귀엽고 센스 있어</td>\n",
       "    </tr>\n",
       "  </tbody>\n",
       "</table>\n",
       "</div>"
      ],
      "text/plain": [
       "                                            Sentence\n",
       "0  아침에 일어나자마자 소별이의 글을 봤어 날이 좋아 기분 좋게 일어났는데 추가로 기쁨...\n",
       "1  미구하라 여행용키트 나왔는데 정품으로 꽉꽉 채워서 받을 수 있대요 월말까지만 요 가...\n",
       "2  변해버린 나날들 가운데 변하지 않은 한 가지를 더 발견한 쟈칼은 순수한 기쁨을 내보...\n",
       "3                                          어린이발레단 느낌\n",
       "4                                 엄잠후ㅋㅋ 너무 귀엽고 센스 있어"
      ]
     },
     "execution_count": 72,
     "metadata": {},
     "output_type": "execute_result"
    }
   ],
   "source": [
    "Pleasure = pd.read_excel('./data/tweet_list_기쁨 labeling_완료.xlsx')\n",
    "Pleasure.columns = ['_', 'Sentence', 'Label']\n",
    "Pleasure = pd.DataFrame(Pleasure['Sentence'])\n",
    "Pleasure.head()"
   ]
  },
  {
   "cell_type": "code",
   "execution_count": 73,
   "metadata": {},
   "outputs": [
    {
     "name": "stderr",
     "output_type": "stream",
     "text": [
      "100%|██████████| 2844/2844 [00:02<00:00, 1079.59it/s]\n"
     ]
    },
    {
     "data": {
      "text/html": [
       "<div>\n",
       "<style scoped>\n",
       "    .dataframe tbody tr th:only-of-type {\n",
       "        vertical-align: middle;\n",
       "    }\n",
       "\n",
       "    .dataframe tbody tr th {\n",
       "        vertical-align: top;\n",
       "    }\n",
       "\n",
       "    .dataframe thead th {\n",
       "        text-align: right;\n",
       "    }\n",
       "</style>\n",
       "<table border=\"1\" class=\"dataframe\">\n",
       "  <thead>\n",
       "    <tr style=\"text-align: right;\">\n",
       "      <th></th>\n",
       "      <th>Sentence</th>\n",
       "      <th>morphs</th>\n",
       "    </tr>\n",
       "  </thead>\n",
       "  <tbody>\n",
       "    <tr>\n",
       "      <th>0</th>\n",
       "      <td>아침에 일어나자마자 소별이의 글을 봤어 날이 좋아 기분 좋게 일어났는데 추가로 기쁨...</td>\n",
       "      <td>[(근데, MAJ), (조슈프, NNG), (이, VCP), (라, EC), (좀,...</td>\n",
       "    </tr>\n",
       "    <tr>\n",
       "      <th>1</th>\n",
       "      <td>미구하라 여행용키트 나왔는데 정품으로 꽉꽉 채워서 받을 수 있대요 월말까지만 요 가...</td>\n",
       "      <td>[(아, IC), (오팔, NNG), (은, JX), (좋, VA), (은데, EC...</td>\n",
       "    </tr>\n",
       "    <tr>\n",
       "      <th>2</th>\n",
       "      <td>변해버린 나날들 가운데 변하지 않은 한 가지를 더 발견한 쟈칼은 순수한 기쁨을 내보...</td>\n",
       "      <td>[(뭐, IC), (존나, NNG), (좋, VA), (아, EC)]</td>\n",
       "    </tr>\n",
       "    <tr>\n",
       "      <th>3</th>\n",
       "      <td>어린이발레단 느낌</td>\n",
       "      <td>[(허, IC), (흐허ㅓ, MAG), (으러러, EC), (레몬, NNG), (존...</td>\n",
       "    </tr>\n",
       "    <tr>\n",
       "      <th>4</th>\n",
       "      <td>엄잠후ㅋㅋ 너무 귀엽고 센스 있어</td>\n",
       "      <td>[(아, IC), (근데, MAJ), (진짜, NNG), (빻, VV), (았, E...</td>\n",
       "    </tr>\n",
       "  </tbody>\n",
       "</table>\n",
       "</div>"
      ],
      "text/plain": [
       "                                            Sentence  \\\n",
       "0  아침에 일어나자마자 소별이의 글을 봤어 날이 좋아 기분 좋게 일어났는데 추가로 기쁨...   \n",
       "1  미구하라 여행용키트 나왔는데 정품으로 꽉꽉 채워서 받을 수 있대요 월말까지만 요 가...   \n",
       "2  변해버린 나날들 가운데 변하지 않은 한 가지를 더 발견한 쟈칼은 순수한 기쁨을 내보...   \n",
       "3                                          어린이발레단 느낌   \n",
       "4                                 엄잠후ㅋㅋ 너무 귀엽고 센스 있어   \n",
       "\n",
       "                                              morphs  \n",
       "0  [(근데, MAJ), (조슈프, NNG), (이, VCP), (라, EC), (좀,...  \n",
       "1  [(아, IC), (오팔, NNG), (은, JX), (좋, VA), (은데, EC...  \n",
       "2             [(뭐, IC), (존나, NNG), (좋, VA), (아, EC)]  \n",
       "3  [(허, IC), (흐허ㅓ, MAG), (으러러, EC), (레몬, NNG), (존...  \n",
       "4  [(아, IC), (근데, MAJ), (진짜, NNG), (빻, VV), (았, E...  "
      ]
     },
     "execution_count": 73,
     "metadata": {},
     "output_type": "execute_result"
    }
   ],
   "source": [
    "Pleasure['morphs'] = very_good.progress_apply(analyze_morphs, axis=1)\n",
    "Pleasure.to_pickle('기쁨.pkl')\n",
    "Pleasure.head()"
   ]
  },
  {
   "cell_type": "code",
   "execution_count": 9,
   "metadata": {},
   "outputs": [],
   "source": [
    "anger = pd.read_excel('./data/tweet_list_화남_완료.xlsx')\n",
    "anger.columns = ['_', 'Sentence', 'Label']\n",
    "anger = anger.dropna(axis=0).reset_index()\n",
    "anger = pd.DataFrame(anger['Sentence'])"
   ]
  },
  {
   "cell_type": "code",
   "execution_count": 10,
   "metadata": {},
   "outputs": [
    {
     "name": "stderr",
     "output_type": "stream",
     "text": [
      "100%|██████████| 1140/1140 [00:01<00:00, 1051.72it/s]\n"
     ]
    }
   ],
   "source": [
    "anger['morphs'] = anger.progress_apply(analyze_morphs, axis=1)\n",
    "anger.to_pickle('화남.pkl')"
   ]
  },
  {
   "cell_type": "code",
   "execution_count": 108,
   "metadata": {},
   "outputs": [
    {
     "data": {
      "text/html": [
       "<div>\n",
       "<style scoped>\n",
       "    .dataframe tbody tr th:only-of-type {\n",
       "        vertical-align: middle;\n",
       "    }\n",
       "\n",
       "    .dataframe tbody tr th {\n",
       "        vertical-align: top;\n",
       "    }\n",
       "\n",
       "    .dataframe thead th {\n",
       "        text-align: right;\n",
       "    }\n",
       "</style>\n",
       "<table border=\"1\" class=\"dataframe\">\n",
       "  <thead>\n",
       "    <tr style=\"text-align: right;\">\n",
       "      <th></th>\n",
       "      <th>Sentence</th>\n",
       "    </tr>\n",
       "  </thead>\n",
       "  <tbody>\n",
       "    <tr>\n",
       "      <th>0</th>\n",
       "      <td>오프라인설명서 울고싶다 이년전의 내가 이런걸 하고 다녔다는 사실이 너무 슬픔 자살하...</td>\n",
       "    </tr>\n",
       "    <tr>\n",
       "      <th>1</th>\n",
       "      <td>오ㅑ 간간이 트친소가 보이죠 조금 슬픔</td>\n",
       "    </tr>\n",
       "    <tr>\n",
       "      <th>2</th>\n",
       "      <td>온 오늘 어몽어스 못해서 슬픔</td>\n",
       "    </tr>\n",
       "    <tr>\n",
       "      <th>3</th>\n",
       "      <td>온갖 후회와 아쉬움과 슬픔이 뒤섞인듯한 마지막컷</td>\n",
       "    </tr>\n",
       "    <tr>\n",
       "      <th>4</th>\n",
       "      <td>올 월에 본 작은아씨들의 여운이 아직 채 가지 않았다는 소식인데요 하 덕톡할 사람이...</td>\n",
       "    </tr>\n",
       "  </tbody>\n",
       "</table>\n",
       "</div>"
      ],
      "text/plain": [
       "                                            Sentence\n",
       "0  오프라인설명서 울고싶다 이년전의 내가 이런걸 하고 다녔다는 사실이 너무 슬픔 자살하...\n",
       "1                              오ㅑ 간간이 트친소가 보이죠 조금 슬픔\n",
       "2                                   온 오늘 어몽어스 못해서 슬픔\n",
       "3                         온갖 후회와 아쉬움과 슬픔이 뒤섞인듯한 마지막컷\n",
       "4  올 월에 본 작은아씨들의 여운이 아직 채 가지 않았다는 소식인데요 하 덕톡할 사람이..."
      ]
     },
     "execution_count": 108,
     "metadata": {},
     "output_type": "execute_result"
    }
   ],
   "source": [
    "Sadness = pd.read_excel('./data/tweet_list_슬픔_5001부터_완료.xlsx')\n",
    "Sadness = Sadness[Sadness['Label'] == 1].reset_index()\n",
    "Sadness = pd.DataFrame(Sadness['Sentence'])\n",
    "# hate.columns = ['_', 'Sentence']\n",
    "# hate = pd.DataFrame(hate['Sentence'])\n",
    "Sadness.head()"
   ]
  },
  {
   "cell_type": "code",
   "execution_count": 109,
   "metadata": {},
   "outputs": [
    {
     "name": "stderr",
     "output_type": "stream",
     "text": [
      "100%|██████████| 874/874 [00:00<00:00, 1136.78it/s]\n"
     ]
    },
    {
     "data": {
      "text/html": [
       "<div>\n",
       "<style scoped>\n",
       "    .dataframe tbody tr th:only-of-type {\n",
       "        vertical-align: middle;\n",
       "    }\n",
       "\n",
       "    .dataframe tbody tr th {\n",
       "        vertical-align: top;\n",
       "    }\n",
       "\n",
       "    .dataframe thead th {\n",
       "        text-align: right;\n",
       "    }\n",
       "</style>\n",
       "<table border=\"1\" class=\"dataframe\">\n",
       "  <thead>\n",
       "    <tr style=\"text-align: right;\">\n",
       "      <th></th>\n",
       "      <th>Sentence</th>\n",
       "      <th>morphs</th>\n",
       "    </tr>\n",
       "  </thead>\n",
       "  <tbody>\n",
       "    <tr>\n",
       "      <th>0</th>\n",
       "      <td>오프라인설명서 울고싶다 이년전의 내가 이런걸 하고 다녔다는 사실이 너무 슬픔 자살하...</td>\n",
       "      <td>[(오프라인설명, NNG), (서, JKB), (울, VV), (고, EC), (싶...</td>\n",
       "    </tr>\n",
       "    <tr>\n",
       "      <th>1</th>\n",
       "      <td>오ㅑ 간간이 트친소가 보이죠 조금 슬픔</td>\n",
       "      <td>[(오, MAG), (ㅑ, NNG), (간간이, MAG), (트친소, NNG), (...</td>\n",
       "    </tr>\n",
       "    <tr>\n",
       "      <th>2</th>\n",
       "      <td>온 오늘 어몽어스 못해서 슬픔</td>\n",
       "      <td>[(온, MM), (오늘, NNG), (어, MAG), (몽어, NNG), (스, ...</td>\n",
       "    </tr>\n",
       "    <tr>\n",
       "      <th>3</th>\n",
       "      <td>온갖 후회와 아쉬움과 슬픔이 뒤섞인듯한 마지막컷</td>\n",
       "      <td>[(온갖, MM), (후회, NNG), (와, JC), (아쉬움, NNG), (과,...</td>\n",
       "    </tr>\n",
       "    <tr>\n",
       "      <th>4</th>\n",
       "      <td>올 월에 본 작은아씨들의 여운이 아직 채 가지 않았다는 소식인데요 하 덕톡할 사람이...</td>\n",
       "      <td>[(올, MM), (월, NNB), (에, JKB), (보, VV), (ㄴ, ETM...</td>\n",
       "    </tr>\n",
       "  </tbody>\n",
       "</table>\n",
       "</div>"
      ],
      "text/plain": [
       "                                            Sentence  \\\n",
       "0  오프라인설명서 울고싶다 이년전의 내가 이런걸 하고 다녔다는 사실이 너무 슬픔 자살하...   \n",
       "1                              오ㅑ 간간이 트친소가 보이죠 조금 슬픔   \n",
       "2                                   온 오늘 어몽어스 못해서 슬픔   \n",
       "3                         온갖 후회와 아쉬움과 슬픔이 뒤섞인듯한 마지막컷   \n",
       "4  올 월에 본 작은아씨들의 여운이 아직 채 가지 않았다는 소식인데요 하 덕톡할 사람이...   \n",
       "\n",
       "                                              morphs  \n",
       "0  [(오프라인설명, NNG), (서, JKB), (울, VV), (고, EC), (싶...  \n",
       "1  [(오, MAG), (ㅑ, NNG), (간간이, MAG), (트친소, NNG), (...  \n",
       "2  [(온, MM), (오늘, NNG), (어, MAG), (몽어, NNG), (스, ...  \n",
       "3  [(온갖, MM), (후회, NNG), (와, JC), (아쉬움, NNG), (과,...  \n",
       "4  [(올, MM), (월, NNB), (에, JKB), (보, VV), (ㄴ, ETM...  "
      ]
     },
     "execution_count": 109,
     "metadata": {},
     "output_type": "execute_result"
    }
   ],
   "source": [
    "Sadness['morphs'] = Sadness.progress_apply(analyze_morphs, axis=1)\n",
    "Sadness.to_pickle('슬픔.pkl')\n",
    "Sadness.head()"
   ]
  }
 ],
 "metadata": {
  "kernelspec": {
   "display_name": "Python 3",
   "language": "python",
   "name": "python3"
  },
  "language_info": {
   "codemirror_mode": {
    "name": "ipython",
    "version": 3
   },
   "file_extension": ".py",
   "mimetype": "text/x-python",
   "name": "python",
   "nbconvert_exporter": "python",
   "pygments_lexer": "ipython3",
   "version": "3.8.3"
  }
 },
 "nbformat": 4,
 "nbformat_minor": 4
}
