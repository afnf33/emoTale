{
  "nbformat": 4,
  "nbformat_minor": 0,
  "metadata": {
    "colab": {
      "name": "Korean_multisentiment_classifier_KoBERT.ipynb",
      "provenance": [],
      "collapsed_sections": [
        "GfiPPefJZERK",
        "Te5kUW09awm_"
      ],
      "include_colab_link": true
    },
    "kernelspec": {
      "name": "python3",
      "display_name": "Python 3"
    },
    "accelerator": "GPU",
    "widgets": {
      "application/vnd.jupyter.widget-state+json": {
        "43289c26c0324a3d92efd43cc43ed99a": {
          "model_module": "@jupyter-widgets/controls",
          "model_name": "HBoxModel",
          "state": {
            "_view_name": "HBoxView",
            "_dom_classes": [],
            "_model_name": "HBoxModel",
            "_view_module": "@jupyter-widgets/controls",
            "_model_module_version": "1.5.0",
            "_view_count": null,
            "_view_module_version": "1.5.0",
            "box_style": "",
            "layout": "IPY_MODEL_b23353fcb0e24765b901439f5ff81707",
            "_model_module": "@jupyter-widgets/controls",
            "children": [
              "IPY_MODEL_4e1af7d0eb21408490a59a39843ba46b",
              "IPY_MODEL_e3617a8ae7fd4a3d844df08ccbbd5bf1"
            ]
          }
        },
        "b23353fcb0e24765b901439f5ff81707": {
          "model_module": "@jupyter-widgets/base",
          "model_name": "LayoutModel",
          "state": {
            "_view_name": "LayoutView",
            "grid_template_rows": null,
            "right": null,
            "justify_content": null,
            "_view_module": "@jupyter-widgets/base",
            "overflow": null,
            "_model_module_version": "1.2.0",
            "_view_count": null,
            "flex_flow": null,
            "width": null,
            "min_width": null,
            "border": null,
            "align_items": null,
            "bottom": null,
            "_model_module": "@jupyter-widgets/base",
            "top": null,
            "grid_column": null,
            "overflow_y": null,
            "overflow_x": null,
            "grid_auto_flow": null,
            "grid_area": null,
            "grid_template_columns": null,
            "flex": null,
            "_model_name": "LayoutModel",
            "justify_items": null,
            "grid_row": null,
            "max_height": null,
            "align_content": null,
            "visibility": null,
            "align_self": null,
            "height": null,
            "min_height": null,
            "padding": null,
            "grid_auto_rows": null,
            "grid_gap": null,
            "max_width": null,
            "order": null,
            "_view_module_version": "1.2.0",
            "grid_template_areas": null,
            "object_position": null,
            "object_fit": null,
            "grid_auto_columns": null,
            "margin": null,
            "display": null,
            "left": null
          }
        },
        "4e1af7d0eb21408490a59a39843ba46b": {
          "model_module": "@jupyter-widgets/controls",
          "model_name": "FloatProgressModel",
          "state": {
            "_view_name": "ProgressView",
            "style": "IPY_MODEL_7559946bc5ec46e1b5f05a6996bbbb88",
            "_dom_classes": [],
            "description": "100%",
            "_model_name": "FloatProgressModel",
            "bar_style": "success",
            "max": 168,
            "_view_module": "@jupyter-widgets/controls",
            "_model_module_version": "1.5.0",
            "value": 168,
            "_view_count": null,
            "_view_module_version": "1.5.0",
            "orientation": "horizontal",
            "min": 0,
            "description_tooltip": null,
            "_model_module": "@jupyter-widgets/controls",
            "layout": "IPY_MODEL_57a6ad1f7f1c48ba9ff44ca9e6f2059c"
          }
        },
        "e3617a8ae7fd4a3d844df08ccbbd5bf1": {
          "model_module": "@jupyter-widgets/controls",
          "model_name": "HTMLModel",
          "state": {
            "_view_name": "HTMLView",
            "style": "IPY_MODEL_3a62ea2ec3c94b6090f17a28a9e0b845",
            "_dom_classes": [],
            "description": "",
            "_model_name": "HTMLModel",
            "placeholder": "​",
            "_view_module": "@jupyter-widgets/controls",
            "_model_module_version": "1.5.0",
            "value": " 168/168 [02:05&lt;00:00,  1.34it/s]",
            "_view_count": null,
            "_view_module_version": "1.5.0",
            "description_tooltip": null,
            "_model_module": "@jupyter-widgets/controls",
            "layout": "IPY_MODEL_a6e46a6d04f34d0c8250813ea389fd50"
          }
        },
        "7559946bc5ec46e1b5f05a6996bbbb88": {
          "model_module": "@jupyter-widgets/controls",
          "model_name": "ProgressStyleModel",
          "state": {
            "_view_name": "StyleView",
            "_model_name": "ProgressStyleModel",
            "description_width": "initial",
            "_view_module": "@jupyter-widgets/base",
            "_model_module_version": "1.5.0",
            "_view_count": null,
            "_view_module_version": "1.2.0",
            "bar_color": null,
            "_model_module": "@jupyter-widgets/controls"
          }
        },
        "57a6ad1f7f1c48ba9ff44ca9e6f2059c": {
          "model_module": "@jupyter-widgets/base",
          "model_name": "LayoutModel",
          "state": {
            "_view_name": "LayoutView",
            "grid_template_rows": null,
            "right": null,
            "justify_content": null,
            "_view_module": "@jupyter-widgets/base",
            "overflow": null,
            "_model_module_version": "1.2.0",
            "_view_count": null,
            "flex_flow": null,
            "width": null,
            "min_width": null,
            "border": null,
            "align_items": null,
            "bottom": null,
            "_model_module": "@jupyter-widgets/base",
            "top": null,
            "grid_column": null,
            "overflow_y": null,
            "overflow_x": null,
            "grid_auto_flow": null,
            "grid_area": null,
            "grid_template_columns": null,
            "flex": null,
            "_model_name": "LayoutModel",
            "justify_items": null,
            "grid_row": null,
            "max_height": null,
            "align_content": null,
            "visibility": null,
            "align_self": null,
            "height": null,
            "min_height": null,
            "padding": null,
            "grid_auto_rows": null,
            "grid_gap": null,
            "max_width": null,
            "order": null,
            "_view_module_version": "1.2.0",
            "grid_template_areas": null,
            "object_position": null,
            "object_fit": null,
            "grid_auto_columns": null,
            "margin": null,
            "display": null,
            "left": null
          }
        },
        "3a62ea2ec3c94b6090f17a28a9e0b845": {
          "model_module": "@jupyter-widgets/controls",
          "model_name": "DescriptionStyleModel",
          "state": {
            "_view_name": "StyleView",
            "_model_name": "DescriptionStyleModel",
            "description_width": "",
            "_view_module": "@jupyter-widgets/base",
            "_model_module_version": "1.5.0",
            "_view_count": null,
            "_view_module_version": "1.2.0",
            "_model_module": "@jupyter-widgets/controls"
          }
        },
        "a6e46a6d04f34d0c8250813ea389fd50": {
          "model_module": "@jupyter-widgets/base",
          "model_name": "LayoutModel",
          "state": {
            "_view_name": "LayoutView",
            "grid_template_rows": null,
            "right": null,
            "justify_content": null,
            "_view_module": "@jupyter-widgets/base",
            "overflow": null,
            "_model_module_version": "1.2.0",
            "_view_count": null,
            "flex_flow": null,
            "width": null,
            "min_width": null,
            "border": null,
            "align_items": null,
            "bottom": null,
            "_model_module": "@jupyter-widgets/base",
            "top": null,
            "grid_column": null,
            "overflow_y": null,
            "overflow_x": null,
            "grid_auto_flow": null,
            "grid_area": null,
            "grid_template_columns": null,
            "flex": null,
            "_model_name": "LayoutModel",
            "justify_items": null,
            "grid_row": null,
            "max_height": null,
            "align_content": null,
            "visibility": null,
            "align_self": null,
            "height": null,
            "min_height": null,
            "padding": null,
            "grid_auto_rows": null,
            "grid_gap": null,
            "max_width": null,
            "order": null,
            "_view_module_version": "1.2.0",
            "grid_template_areas": null,
            "object_position": null,
            "object_fit": null,
            "grid_auto_columns": null,
            "margin": null,
            "display": null,
            "left": null
          }
        },
        "9dad7e3188664d8d9373e729985875ef": {
          "model_module": "@jupyter-widgets/controls",
          "model_name": "HBoxModel",
          "state": {
            "_view_name": "HBoxView",
            "_dom_classes": [],
            "_model_name": "HBoxModel",
            "_view_module": "@jupyter-widgets/controls",
            "_model_module_version": "1.5.0",
            "_view_count": null,
            "_view_module_version": "1.5.0",
            "box_style": "",
            "layout": "IPY_MODEL_af76a835c2244526b2582c44a21b86df",
            "_model_module": "@jupyter-widgets/controls",
            "children": [
              "IPY_MODEL_579bc64720fe4ef88c37d1bf1ff4f33f",
              "IPY_MODEL_d587bc43355c43669dcd621e6ac768d6"
            ]
          }
        },
        "af76a835c2244526b2582c44a21b86df": {
          "model_module": "@jupyter-widgets/base",
          "model_name": "LayoutModel",
          "state": {
            "_view_name": "LayoutView",
            "grid_template_rows": null,
            "right": null,
            "justify_content": null,
            "_view_module": "@jupyter-widgets/base",
            "overflow": null,
            "_model_module_version": "1.2.0",
            "_view_count": null,
            "flex_flow": null,
            "width": null,
            "min_width": null,
            "border": null,
            "align_items": null,
            "bottom": null,
            "_model_module": "@jupyter-widgets/base",
            "top": null,
            "grid_column": null,
            "overflow_y": null,
            "overflow_x": null,
            "grid_auto_flow": null,
            "grid_area": null,
            "grid_template_columns": null,
            "flex": null,
            "_model_name": "LayoutModel",
            "justify_items": null,
            "grid_row": null,
            "max_height": null,
            "align_content": null,
            "visibility": null,
            "align_self": null,
            "height": null,
            "min_height": null,
            "padding": null,
            "grid_auto_rows": null,
            "grid_gap": null,
            "max_width": null,
            "order": null,
            "_view_module_version": "1.2.0",
            "grid_template_areas": null,
            "object_position": null,
            "object_fit": null,
            "grid_auto_columns": null,
            "margin": null,
            "display": null,
            "left": null
          }
        },
        "579bc64720fe4ef88c37d1bf1ff4f33f": {
          "model_module": "@jupyter-widgets/controls",
          "model_name": "FloatProgressModel",
          "state": {
            "_view_name": "ProgressView",
            "style": "IPY_MODEL_944643e29fdf4f9280cca4ae5902d12f",
            "_dom_classes": [],
            "description": "100%",
            "_model_name": "FloatProgressModel",
            "bar_style": "success",
            "max": 63,
            "_view_module": "@jupyter-widgets/controls",
            "_model_module_version": "1.5.0",
            "value": 63,
            "_view_count": null,
            "_view_module_version": "1.5.0",
            "orientation": "horizontal",
            "min": 0,
            "description_tooltip": null,
            "_model_module": "@jupyter-widgets/controls",
            "layout": "IPY_MODEL_7a148fa7b08d4d61a8e8b3b059fdbc4a"
          }
        },
        "d587bc43355c43669dcd621e6ac768d6": {
          "model_module": "@jupyter-widgets/controls",
          "model_name": "HTMLModel",
          "state": {
            "_view_name": "HTMLView",
            "style": "IPY_MODEL_de8002dd8b2b4ca28568be68e8e6d222",
            "_dom_classes": [],
            "description": "",
            "_model_name": "HTMLModel",
            "placeholder": "​",
            "_view_module": "@jupyter-widgets/controls",
            "_model_module_version": "1.5.0",
            "value": " 63/63 [00:21&lt;00:00,  2.98it/s]",
            "_view_count": null,
            "_view_module_version": "1.5.0",
            "description_tooltip": null,
            "_model_module": "@jupyter-widgets/controls",
            "layout": "IPY_MODEL_ad6c5fa0ffb244e4b2aca40df27ee3d1"
          }
        },
        "944643e29fdf4f9280cca4ae5902d12f": {
          "model_module": "@jupyter-widgets/controls",
          "model_name": "ProgressStyleModel",
          "state": {
            "_view_name": "StyleView",
            "_model_name": "ProgressStyleModel",
            "description_width": "initial",
            "_view_module": "@jupyter-widgets/base",
            "_model_module_version": "1.5.0",
            "_view_count": null,
            "_view_module_version": "1.2.0",
            "bar_color": null,
            "_model_module": "@jupyter-widgets/controls"
          }
        },
        "7a148fa7b08d4d61a8e8b3b059fdbc4a": {
          "model_module": "@jupyter-widgets/base",
          "model_name": "LayoutModel",
          "state": {
            "_view_name": "LayoutView",
            "grid_template_rows": null,
            "right": null,
            "justify_content": null,
            "_view_module": "@jupyter-widgets/base",
            "overflow": null,
            "_model_module_version": "1.2.0",
            "_view_count": null,
            "flex_flow": null,
            "width": null,
            "min_width": null,
            "border": null,
            "align_items": null,
            "bottom": null,
            "_model_module": "@jupyter-widgets/base",
            "top": null,
            "grid_column": null,
            "overflow_y": null,
            "overflow_x": null,
            "grid_auto_flow": null,
            "grid_area": null,
            "grid_template_columns": null,
            "flex": null,
            "_model_name": "LayoutModel",
            "justify_items": null,
            "grid_row": null,
            "max_height": null,
            "align_content": null,
            "visibility": null,
            "align_self": null,
            "height": null,
            "min_height": null,
            "padding": null,
            "grid_auto_rows": null,
            "grid_gap": null,
            "max_width": null,
            "order": null,
            "_view_module_version": "1.2.0",
            "grid_template_areas": null,
            "object_position": null,
            "object_fit": null,
            "grid_auto_columns": null,
            "margin": null,
            "display": null,
            "left": null
          }
        },
        "de8002dd8b2b4ca28568be68e8e6d222": {
          "model_module": "@jupyter-widgets/controls",
          "model_name": "DescriptionStyleModel",
          "state": {
            "_view_name": "StyleView",
            "_model_name": "DescriptionStyleModel",
            "description_width": "",
            "_view_module": "@jupyter-widgets/base",
            "_model_module_version": "1.5.0",
            "_view_count": null,
            "_view_module_version": "1.2.0",
            "_model_module": "@jupyter-widgets/controls"
          }
        },
        "ad6c5fa0ffb244e4b2aca40df27ee3d1": {
          "model_module": "@jupyter-widgets/base",
          "model_name": "LayoutModel",
          "state": {
            "_view_name": "LayoutView",
            "grid_template_rows": null,
            "right": null,
            "justify_content": null,
            "_view_module": "@jupyter-widgets/base",
            "overflow": null,
            "_model_module_version": "1.2.0",
            "_view_count": null,
            "flex_flow": null,
            "width": null,
            "min_width": null,
            "border": null,
            "align_items": null,
            "bottom": null,
            "_model_module": "@jupyter-widgets/base",
            "top": null,
            "grid_column": null,
            "overflow_y": null,
            "overflow_x": null,
            "grid_auto_flow": null,
            "grid_area": null,
            "grid_template_columns": null,
            "flex": null,
            "_model_name": "LayoutModel",
            "justify_items": null,
            "grid_row": null,
            "max_height": null,
            "align_content": null,
            "visibility": null,
            "align_self": null,
            "height": null,
            "min_height": null,
            "padding": null,
            "grid_auto_rows": null,
            "grid_gap": null,
            "max_width": null,
            "order": null,
            "_view_module_version": "1.2.0",
            "grid_template_areas": null,
            "object_position": null,
            "object_fit": null,
            "grid_auto_columns": null,
            "margin": null,
            "display": null,
            "left": null
          }
        },
        "a5fea7f256da4931a8222c41ad623153": {
          "model_module": "@jupyter-widgets/controls",
          "model_name": "HBoxModel",
          "state": {
            "_view_name": "HBoxView",
            "_dom_classes": [],
            "_model_name": "HBoxModel",
            "_view_module": "@jupyter-widgets/controls",
            "_model_module_version": "1.5.0",
            "_view_count": null,
            "_view_module_version": "1.5.0",
            "box_style": "",
            "layout": "IPY_MODEL_52c1c004df5749d689f549856831866b",
            "_model_module": "@jupyter-widgets/controls",
            "children": [
              "IPY_MODEL_a089b6023cdf40cc83a9a99ffed45d9b",
              "IPY_MODEL_dd066de4072745e49eff18dad8950461"
            ]
          }
        },
        "52c1c004df5749d689f549856831866b": {
          "model_module": "@jupyter-widgets/base",
          "model_name": "LayoutModel",
          "state": {
            "_view_name": "LayoutView",
            "grid_template_rows": null,
            "right": null,
            "justify_content": null,
            "_view_module": "@jupyter-widgets/base",
            "overflow": null,
            "_model_module_version": "1.2.0",
            "_view_count": null,
            "flex_flow": null,
            "width": null,
            "min_width": null,
            "border": null,
            "align_items": null,
            "bottom": null,
            "_model_module": "@jupyter-widgets/base",
            "top": null,
            "grid_column": null,
            "overflow_y": null,
            "overflow_x": null,
            "grid_auto_flow": null,
            "grid_area": null,
            "grid_template_columns": null,
            "flex": null,
            "_model_name": "LayoutModel",
            "justify_items": null,
            "grid_row": null,
            "max_height": null,
            "align_content": null,
            "visibility": null,
            "align_self": null,
            "height": null,
            "min_height": null,
            "padding": null,
            "grid_auto_rows": null,
            "grid_gap": null,
            "max_width": null,
            "order": null,
            "_view_module_version": "1.2.0",
            "grid_template_areas": null,
            "object_position": null,
            "object_fit": null,
            "grid_auto_columns": null,
            "margin": null,
            "display": null,
            "left": null
          }
        },
        "a089b6023cdf40cc83a9a99ffed45d9b": {
          "model_module": "@jupyter-widgets/controls",
          "model_name": "FloatProgressModel",
          "state": {
            "_view_name": "ProgressView",
            "style": "IPY_MODEL_ac15c6077a50466982af43625443785a",
            "_dom_classes": [],
            "description": "100%",
            "_model_name": "FloatProgressModel",
            "bar_style": "success",
            "max": 63,
            "_view_module": "@jupyter-widgets/controls",
            "_model_module_version": "1.5.0",
            "value": 63,
            "_view_count": null,
            "_view_module_version": "1.5.0",
            "orientation": "horizontal",
            "min": 0,
            "description_tooltip": null,
            "_model_module": "@jupyter-widgets/controls",
            "layout": "IPY_MODEL_9ed6a9a03d2f478e89a2b19fa31b8b9f"
          }
        },
        "dd066de4072745e49eff18dad8950461": {
          "model_module": "@jupyter-widgets/controls",
          "model_name": "HTMLModel",
          "state": {
            "_view_name": "HTMLView",
            "style": "IPY_MODEL_762b6a9d97ed4cb5bdfce2ba50662c46",
            "_dom_classes": [],
            "description": "",
            "_model_name": "HTMLModel",
            "placeholder": "​",
            "_view_module": "@jupyter-widgets/controls",
            "_model_module_version": "1.5.0",
            "value": " 63/63 [00:16&lt;00:00,  3.88it/s]",
            "_view_count": null,
            "_view_module_version": "1.5.0",
            "description_tooltip": null,
            "_model_module": "@jupyter-widgets/controls",
            "layout": "IPY_MODEL_226c92fa9d64409b97db043675bf2d46"
          }
        },
        "ac15c6077a50466982af43625443785a": {
          "model_module": "@jupyter-widgets/controls",
          "model_name": "ProgressStyleModel",
          "state": {
            "_view_name": "StyleView",
            "_model_name": "ProgressStyleModel",
            "description_width": "initial",
            "_view_module": "@jupyter-widgets/base",
            "_model_module_version": "1.5.0",
            "_view_count": null,
            "_view_module_version": "1.2.0",
            "bar_color": null,
            "_model_module": "@jupyter-widgets/controls"
          }
        },
        "9ed6a9a03d2f478e89a2b19fa31b8b9f": {
          "model_module": "@jupyter-widgets/base",
          "model_name": "LayoutModel",
          "state": {
            "_view_name": "LayoutView",
            "grid_template_rows": null,
            "right": null,
            "justify_content": null,
            "_view_module": "@jupyter-widgets/base",
            "overflow": null,
            "_model_module_version": "1.2.0",
            "_view_count": null,
            "flex_flow": null,
            "width": null,
            "min_width": null,
            "border": null,
            "align_items": null,
            "bottom": null,
            "_model_module": "@jupyter-widgets/base",
            "top": null,
            "grid_column": null,
            "overflow_y": null,
            "overflow_x": null,
            "grid_auto_flow": null,
            "grid_area": null,
            "grid_template_columns": null,
            "flex": null,
            "_model_name": "LayoutModel",
            "justify_items": null,
            "grid_row": null,
            "max_height": null,
            "align_content": null,
            "visibility": null,
            "align_self": null,
            "height": null,
            "min_height": null,
            "padding": null,
            "grid_auto_rows": null,
            "grid_gap": null,
            "max_width": null,
            "order": null,
            "_view_module_version": "1.2.0",
            "grid_template_areas": null,
            "object_position": null,
            "object_fit": null,
            "grid_auto_columns": null,
            "margin": null,
            "display": null,
            "left": null
          }
        },
        "762b6a9d97ed4cb5bdfce2ba50662c46": {
          "model_module": "@jupyter-widgets/controls",
          "model_name": "DescriptionStyleModel",
          "state": {
            "_view_name": "StyleView",
            "_model_name": "DescriptionStyleModel",
            "description_width": "",
            "_view_module": "@jupyter-widgets/base",
            "_model_module_version": "1.5.0",
            "_view_count": null,
            "_view_module_version": "1.2.0",
            "_model_module": "@jupyter-widgets/controls"
          }
        },
        "226c92fa9d64409b97db043675bf2d46": {
          "model_module": "@jupyter-widgets/base",
          "model_name": "LayoutModel",
          "state": {
            "_view_name": "LayoutView",
            "grid_template_rows": null,
            "right": null,
            "justify_content": null,
            "_view_module": "@jupyter-widgets/base",
            "overflow": null,
            "_model_module_version": "1.2.0",
            "_view_count": null,
            "flex_flow": null,
            "width": null,
            "min_width": null,
            "border": null,
            "align_items": null,
            "bottom": null,
            "_model_module": "@jupyter-widgets/base",
            "top": null,
            "grid_column": null,
            "overflow_y": null,
            "overflow_x": null,
            "grid_auto_flow": null,
            "grid_area": null,
            "grid_template_columns": null,
            "flex": null,
            "_model_name": "LayoutModel",
            "justify_items": null,
            "grid_row": null,
            "max_height": null,
            "align_content": null,
            "visibility": null,
            "align_self": null,
            "height": null,
            "min_height": null,
            "padding": null,
            "grid_auto_rows": null,
            "grid_gap": null,
            "max_width": null,
            "order": null,
            "_view_module_version": "1.2.0",
            "grid_template_areas": null,
            "object_position": null,
            "object_fit": null,
            "grid_auto_columns": null,
            "margin": null,
            "display": null,
            "left": null
          }
        }
      }
    }
  },
  "cells": [
    {
      "cell_type": "markdown",
      "metadata": {
        "id": "view-in-github",
        "colab_type": "text"
      },
      "source": [
        "<a href=\"https://colab.research.google.com/github/afnf33/emoTale/blob/master/models/Korean_multisentiment_classifier_KoBERT.ipynb\" target=\"_parent\"><img src=\"https://colab.research.google.com/assets/colab-badge.svg\" alt=\"Open In Colab\"/></a>"
      ]
    },
    {
      "cell_type": "code",
      "metadata": {
        "id": "nJaJL151DBcu",
        "colab_type": "code",
        "colab": {}
      },
      "source": [
        "# 구글 드라이브와 연동합니다\n",
        "from google.colab import drive\n",
        "drive.mount('/content/drive')"
      ],
      "execution_count": null,
      "outputs": []
    },
    {
      "cell_type": "code",
      "metadata": {
        "id": "fUgMXvr-C0N8",
        "colab_type": "code",
        "colab": {}
      },
      "source": [
        "# 필요한 모듈을 설치합니다\n",
        "!pip install mxnet-cu101\n",
        "!pip install gluonnlp pandas tqdm\n",
        "!pip install sentencepiece==0.1.85\n",
        "!pip install transformers==2.1.1\n",
        "!pip install torch #원래 ==1.3.1\n",
        "\n",
        "#SKT에서 공개한 KoBERT 모델을 불러옵니다 \n",
        "!pip install git+https://git@github.com/SKTBrain/KoBERT.git@master"
      ],
      "execution_count": null,
      "outputs": []
    },
    {
      "cell_type": "markdown",
      "metadata": {
        "id": "bJUqMfBpYxCl",
        "colab_type": "text"
      },
      "source": [
        "# 1. 데이터 불러오기, 데이터 전처리"
      ]
    },
    {
      "cell_type": "code",
      "metadata": {
        "id": "clnnv7QlqPQh",
        "colab_type": "code",
        "colab": {
          "base_uri": "https://localhost:8080/",
          "height": 423
        },
        "outputId": "af21ec18-6e45-4aa8-bb46-fe8f3da6c37b"
      },
      "source": [
        "import pandas as pd\n",
        "\n",
        "sad = pd.read_excel('/content/drive/My Drive/data/tweet_list_슬픔 1~5000.xlsx')\n",
        "happy = pd.read_excel('/content/drive/My Drive/data/tweet_list_기쁨 labeling_완료.xlsx')\n",
        "annoy = pd.read_excel('/content/drive/My Drive/data/tweet_list_짜증_완료.xlsx')\n",
        "fear = pd.read_excel('/content/drive/My Drive/data/tweet_list_공포_완료.xlsx')\n",
        "\n",
        "sad2 = pd.read_csv('/content/drive/My Drive/data/추가_슬픔.csv')\n",
        "happy2 = pd.read_csv('/content/drive/My Drive/data/추가_기쁨.csv')\n",
        "annoy2 = pd.read_csv('/content/drive/My Drive/data/추가_분노.csv')\n",
        "fear2 = pd.read_csv('/content/drive/My Drive/data/추가_공포1.txt', encoding='utf8')\n",
        "\n",
        "sad"
      ],
      "execution_count": null,
      "outputs": [
        {
          "output_type": "execute_result",
          "data": {
            "text/html": [
              "<div>\n",
              "<style scoped>\n",
              "    .dataframe tbody tr th:only-of-type {\n",
              "        vertical-align: middle;\n",
              "    }\n",
              "\n",
              "    .dataframe tbody tr th {\n",
              "        vertical-align: top;\n",
              "    }\n",
              "\n",
              "    .dataframe thead th {\n",
              "        text-align: right;\n",
              "    }\n",
              "</style>\n",
              "<table border=\"1\" class=\"dataframe\">\n",
              "  <thead>\n",
              "    <tr style=\"text-align: right;\">\n",
              "      <th></th>\n",
              "      <th>Unnamed: 0</th>\n",
              "      <th>raw_text</th>\n",
              "    </tr>\n",
              "  </thead>\n",
              "  <tbody>\n",
              "    <tr>\n",
              "      <th>0</th>\n",
              "      <td>5610</td>\n",
              "      <td>가난한 아버지가 가련한 아들을 껴안고 잠든 밤 마른 이불과 따끈따끈한 요리를 꿈꾸며...</td>\n",
              "    </tr>\n",
              "    <tr>\n",
              "      <th>1</th>\n",
              "      <td>2189</td>\n",
              "      <td>가담도 완결나면 유료화되겠지 좀 슬픔</td>\n",
              "    </tr>\n",
              "    <tr>\n",
              "      <th>2</th>\n",
              "      <td>1843</td>\n",
              "      <td>가려진시간 뭔데 존나 슬픔 하아 ㅠㅠ 아 시발 진짜 시발 ㅠㅠㅠㅠ</td>\n",
              "    </tr>\n",
              "    <tr>\n",
              "      <th>3</th>\n",
              "      <td>497</td>\n",
              "      <td>가리고 싶은 감정이 참 많았어요 뭐라 부르기도 싫고 그냥 그런 것이 없는 사람이 되...</td>\n",
              "    </tr>\n",
              "    <tr>\n",
              "      <th>4</th>\n",
              "      <td>2165</td>\n",
              "      <td>가만보면 블루님은 다 귀엽다고 하시는데 본인이 귀여운지는 모르시는 거 같아요 슬픔</td>\n",
              "    </tr>\n",
              "    <tr>\n",
              "      <th>...</th>\n",
              "      <td>...</td>\n",
              "      <td>...</td>\n",
              "    </tr>\n",
              "    <tr>\n",
              "      <th>2691</th>\n",
              "      <td>7241</td>\n",
              "      <td>오페라의 유령 공연까지 일 남았다 근데 그때면 개강도 머지않아서 슬픔</td>\n",
              "    </tr>\n",
              "    <tr>\n",
              "      <th>2692</th>\n",
              "      <td>4421</td>\n",
              "      <td>그런것같아ㅋㅋㅋㅋ 첨에는 목아프더니 갑자기 콧물나오고 장난아니랄까 목 다갈라쟛어 슬픔</td>\n",
              "    </tr>\n",
              "    <tr>\n",
              "      <th>2693</th>\n",
              "      <td>4862</td>\n",
              "      <td>그런데 왜 입술을 꾹 물고 슬픔에 물든 눈으로 너를 본다 왜 그렇게 말해</td>\n",
              "    </tr>\n",
              "    <tr>\n",
              "      <th>2694</th>\n",
              "      <td>26</td>\n",
              "      <td>언니도 같이 달려줫던 년 좀 슬픔</td>\n",
              "    </tr>\n",
              "    <tr>\n",
              "      <th>2695</th>\n",
              "      <td>4584</td>\n",
              "      <td>빌레가 슬픔이라고 생각했는데 사실 슬픔보단 냉정 이성과 같은 감정이 아닐까 빌레가 ...</td>\n",
              "    </tr>\n",
              "  </tbody>\n",
              "</table>\n",
              "<p>2696 rows × 2 columns</p>\n",
              "</div>"
            ],
            "text/plain": [
              "      Unnamed: 0                                           raw_text\n",
              "0           5610  가난한 아버지가 가련한 아들을 껴안고 잠든 밤 마른 이불과 따끈따끈한 요리를 꿈꾸며...\n",
              "1           2189                               가담도 완결나면 유료화되겠지 좀 슬픔\n",
              "2           1843               가려진시간 뭔데 존나 슬픔 하아 ㅠㅠ 아 시발 진짜 시발 ㅠㅠㅠㅠ\n",
              "3            497  가리고 싶은 감정이 참 많았어요 뭐라 부르기도 싫고 그냥 그런 것이 없는 사람이 되...\n",
              "4           2165      가만보면 블루님은 다 귀엽다고 하시는데 본인이 귀여운지는 모르시는 거 같아요 슬픔\n",
              "...          ...                                                ...\n",
              "2691        7241             오페라의 유령 공연까지 일 남았다 근데 그때면 개강도 머지않아서 슬픔\n",
              "2692        4421    그런것같아ㅋㅋㅋㅋ 첨에는 목아프더니 갑자기 콧물나오고 장난아니랄까 목 다갈라쟛어 슬픔\n",
              "2693        4862           그런데 왜 입술을 꾹 물고 슬픔에 물든 눈으로 너를 본다 왜 그렇게 말해\n",
              "2694          26                                 언니도 같이 달려줫던 년 좀 슬픔\n",
              "2695        4584  빌레가 슬픔이라고 생각했는데 사실 슬픔보단 냉정 이성과 같은 감정이 아닐까 빌레가 ...\n",
              "\n",
              "[2696 rows x 2 columns]"
            ]
          },
          "metadata": {
            "tags": []
          },
          "execution_count": 17
        }
      ]
    },
    {
      "cell_type": "code",
      "metadata": {
        "id": "pv605f88s7fZ",
        "colab_type": "code",
        "colab": {}
      },
      "source": [
        "#전처리를 위한 함수\n",
        "def preprocessing(data, label):\n",
        "  import re\n",
        "  dt = data['raw_text'].copy() #문장만 선택\n",
        "  dt = dt.dropna() #결측치 제거\n",
        "  dt = dt.drop_duplicates() #중복 제거\n",
        "  sentences = dt.tolist()\n",
        "  new_sent=[]\n",
        "  for i in range(len(sentences)):\n",
        "    sent = sentences[i] \n",
        "    if type(sent) != str: # 문장 중 str 아닌 것 처리\n",
        "      sent = str(sent)\n",
        "    if len(sent) < 2: continue #길이 1 이상인 것만 선택\n",
        "    sent = re.sub('ㅋㅋ+','ㅋㅋ',sent)\n",
        "    sent = re.sub('ㅠㅠ+','ㅠㅠ',sent)\n",
        "    sent = re.sub('ㅇㅇ+','ㅇㅇ',sent) \n",
        "    sent = re.sub('ㄷㄷ+','ㄷㄷ',sent) \n",
        "    sent = re.sub('ㅎㅎ+','ㅎㅎ',sent)\n",
        "    sent = re.sub('ㅂㅂ+','ㅂㅂ',sent) \n",
        "    sent = re.sub(';;;+',';;',sent)\n",
        "    sent = re.sub('!!!+','!!',sent)\n",
        "    sent = re.sub('~+','~',sent)\n",
        "    sent = re.sub('[?][?][?]+','??',sent) \n",
        "    sent = re.sub('[.][.][.]+','...',sent) \n",
        "    sent = re.sub('[-=+,#/:$@*\\\"※&%ㆍ』\\\\‘|\\(\\)\\[\\]\\<\\>`\\'…》]','',sent)\n",
        "    new_sent.append(sent)\n",
        "  dt = pd.DataFrame(pd.Series(new_sent), columns=['raw_text'])\n",
        "  dt['emotion'] = label\n",
        "  return dt"
      ],
      "execution_count": null,
      "outputs": []
    },
    {
      "cell_type": "code",
      "metadata": {
        "id": "tF6ml3n4v1H4",
        "colab_type": "code",
        "colab": {
          "base_uri": "https://localhost:8080/",
          "height": 185
        },
        "outputId": "98a40dd6-9983-49c4-d2a2-ede7a770adde"
      },
      "source": [
        "sad = preprocessing(sad, '슬픔')\n",
        "sad2 = preprocessing(sad2, '슬픔')\n",
        "happy = preprocessing(happy, '기쁨')\n",
        "happy2 = preprocessing(happy2, '기쁨')\n",
        "annoy = preprocessing(annoy, '분노')\n",
        "annoy2 = preprocessing(annoy2, '분노')\n",
        "fear = preprocessing(fear, '공포')\n",
        "fear2 = preprocessing(fear2, '공포')\n",
        "\n",
        "for i in [sad, happy, annoy, fear]:\n",
        "  print('1차 레이블 결과', i['emotion'][0],len(i))\n",
        "for i in [sad2, happy2, annoy2, fear2]:\n",
        "  print('2차 레이블 결과', i['emotion'][0],len(i))\n",
        "\n",
        "print('최소 데이터: 공포 ', len(fear)+len(fear2))"
      ],
      "execution_count": null,
      "outputs": [
        {
          "output_type": "stream",
          "text": [
            "1차 레이블 결과 슬픔 2523\n",
            "1차 레이블 결과 기쁨 2064\n",
            "1차 레이블 결과 분노 7862\n",
            "1차 레이블 결과 공포 1034\n",
            "2차 레이블 결과 슬픔 2931\n",
            "2차 레이블 결과 기쁨 3569\n",
            "2차 레이블 결과 분노 1967\n",
            "2차 레이블 결과 공포 3280\n",
            "최소 데이터: 공포  4314\n"
          ],
          "name": "stdout"
        }
      ]
    },
    {
      "cell_type": "code",
      "metadata": {
        "id": "tgFHcC3O7CPM",
        "colab_type": "code",
        "colab": {
          "base_uri": "https://localhost:8080/",
          "height": 185
        },
        "outputId": "ee34ad2c-fe0a-40ea-d5ba-b146991f6d60"
      },
      "source": [
        "## 데이터 개수 확인 후 학습을 위해 각 감정별 데이터 개수를 동일하게 맞춰줍니다.\n",
        "sad_3 = sad[:1400]\n",
        "happy_3 = happy[:800]\n",
        "annoy_3 = annoy[:2400]\n",
        "\n",
        "# 각 감정별 키워드 데이터가 약 1000개 씩으로 이루어져 있기 때문에 마지막 키워드에 대한 데이터 1000개를 평가 데이터로 선택\n",
        "sentence_train = pd.concat([sad_3, happy_3, annoy_3, fear, sad2[:-1000], annoy2[:-1000], happy2[:-1000], fear2[:-1000]], axis=0, ignore_index=True)\n",
        "sentence_eval = pd.concat([sad2[-1000:], annoy2[-1000:], happy2[-1000:], fear2[-1000:]], axis=0, ignore_index=True)\n",
        "\n",
        "for i in ['슬픔','기쁨','분노','공포']:\n",
        "  print('sentence_train',i,len(sentence_train[sentence_train['emotion'] == i]))\n",
        "print('-------------------------')\n",
        "for i in ['슬픔','기쁨','분노','공포']:\n",
        "  print('sentence_eval',i,len(sentence_eval[sentence_eval['emotion'] == i]))"
      ],
      "execution_count": null,
      "outputs": [
        {
          "output_type": "stream",
          "text": [
            "sentence_train 슬픔 3331\n",
            "sentence_train 기쁨 3369\n",
            "sentence_train 분노 3367\n",
            "sentence_train 공포 3314\n",
            "-------------------------\n",
            "sentence_eval 슬픔 1000\n",
            "sentence_eval 기쁨 1000\n",
            "sentence_eval 분노 1000\n",
            "sentence_eval 공포 1000\n"
          ],
          "name": "stdout"
        }
      ]
    },
    {
      "cell_type": "code",
      "metadata": {
        "id": "nfBU_EpxDH6r",
        "colab_type": "code",
        "colab": {
          "base_uri": "https://localhost:8080/",
          "height": 261
        },
        "outputId": "2c8ef9d0-4b84-4bf3-a229-f98f130745e5"
      },
      "source": [
        "#모델에 입력하기 위해 형식을 맞춰줍니다\n",
        "def label(x):\n",
        "  if x=='슬픔': return 0.0\n",
        "  elif x=='기쁨': return 1.0\n",
        "  elif x=='분노': return 2.0\n",
        "  elif x=='공포': return 3.0\n",
        "  else: return x\n",
        "\n",
        "sentence_train[\"emotion\"] = sentence_train[\"emotion\"].apply(label)\n",
        "\n",
        "dtls = [list(sentence_train.iloc[i,:]) for i in range(len(sentence_train))]\n",
        "dtls[:10] #형식이 통일되었습니다"
      ],
      "execution_count": null,
      "outputs": [
        {
          "output_type": "execute_result",
          "data": {
            "text/plain": [
              "[['가난한 아버지가 가련한 아들을 껴안고 잠든 밤 마른 이불과 따끈따끈한 요리를 꿈꾸며 잠든 밤 큰 슬픔이 작은 슬픔을 껴안고 잠든 밤 소금 같은 싸락눈이 신문지 갈피를 넘기며 염장을 지르는 지하역의 겨울밤박후기자반고등어',\n",
              "  0.0],\n",
              " ['가담도 완결나면 유료화되겠지 좀 슬픔', 0.0],\n",
              " ['가려진시간 뭔데 존나 슬픔 하아 ㅠㅠ 아 시발 진짜 시발 ㅠㅠ', 0.0],\n",
              " ['가리고 싶은 감정이 참 많았어요 뭐라 부르기도 싫고 그냥 그런 것이 없는 사람이 되고 싶었어요 제 안에 긍정적이고 밝은 마음만 있기를 바랬나 봐요 그래도 슬픔은 드러내기 어렵지 않았어요 그건 누구에게나 이해받을 수 있다고 생각했지만 미련 유치함 변덕 등은 모두 없었으면 했어요',\n",
              "  0.0],\n",
              " ['가만보면 블루님은 다 귀엽다고 하시는데 본인이 귀여운지는 모르시는 거 같아요 슬픔', 0.0],\n",
              " ['가만히있던 슬픔 띠용 ', 0.0],\n",
              " ['가발도 구했고 안구도왔구 이제 메이크업만 하면 완성인데 기다리던 분이 한동안 쉬신대슬픔', 0.0],\n",
              " ['가방 속에 넣어두었던 돈일반적인 고액은 아니지만 나에게는 고액봉투 사라져서 슬픔 ㅅㅂ 얘야 어디갔ㅇ니 으흑', 0.0],\n",
              " ['가버리셨나슬픔에 철푸덕 쓰러짐', 0.0],\n",
              " ['가보고싶은 맛집은 참 많은데 인 이상가야 본전 뽑는곳이 너무 많아서 슬픔 ', 0.0]]"
            ]
          },
          "metadata": {
            "tags": []
          },
          "execution_count": 40
        }
      ]
    },
    {
      "cell_type": "markdown",
      "metadata": {
        "id": "GfiPPefJZERK",
        "colab_type": "text"
      },
      "source": [
        "# 2. 모델 투입 준비"
      ]
    },
    {
      "cell_type": "code",
      "metadata": {
        "id": "bZjU_IpkC5rC",
        "colab_type": "code",
        "colab": {}
      },
      "source": [
        "import torch\n",
        "from torch import nn\n",
        "import torch.nn.functional as F\n",
        "import torch.optim as optim\n",
        "from torch.utils.data import Dataset, DataLoader\n",
        "import gluonnlp as nlp\n",
        "import numpy as np\n",
        "from tqdm import tqdm, tqdm_notebook\n",
        "from tqdm.notebook import tqdm\n",
        "\n",
        "from kobert.utils import get_tokenizer \n",
        "from kobert.pytorch_kobert import get_pytorch_kobert_model \n",
        "\n",
        "from transformers import AdamW \n",
        "from transformers.optimization import WarmupLinearSchedule "
      ],
      "execution_count": null,
      "outputs": []
    },
    {
      "cell_type": "code",
      "metadata": {
        "id": "AtlhNDufC6-8",
        "colab_type": "code",
        "colab": {}
      },
      "source": [
        "##GPU 사용 시\n",
        "device = torch.device(\"cuda:0\")"
      ],
      "execution_count": null,
      "outputs": []
    },
    {
      "cell_type": "code",
      "metadata": {
        "id": "g3rXDyiKC_7I",
        "colab_type": "code",
        "colab": {}
      },
      "source": [
        "bertmodel, vocab = get_pytorch_kobert_model()"
      ],
      "execution_count": null,
      "outputs": []
    },
    {
      "cell_type": "code",
      "metadata": {
        "id": "6-RqqvLSDjS_",
        "colab_type": "code",
        "colab": {}
      },
      "source": [
        "#koBERT의 토크나이저를 사용합니다\n",
        "tokenizer = get_tokenizer()\n",
        "tok = nlp.data.BERTSPTokenizer(tokenizer, vocab, lower=False)"
      ],
      "execution_count": null,
      "outputs": []
    },
    {
      "cell_type": "code",
      "metadata": {
        "id": "2r1Z7XDbD1xu",
        "colab_type": "code",
        "colab": {}
      },
      "source": [
        "class BERTDataset(Dataset):\n",
        "    def __init__(self, dataset, sent_idx, label_idx, bert_tokenizer, max_len,\n",
        "                 pad, pair):\n",
        "        transform = nlp.data.BERTSentenceTransform(\n",
        "            bert_tokenizer, max_seq_length=max_len, pad=pad, pair=pair)\n",
        "\n",
        "        self.sentences = [transform([i[sent_idx]]) for i in dataset]\n",
        "        self.labels = [np.int32(i[label_idx]) for i in dataset]\n",
        "\n",
        "    def __getitem__(self, i):\n",
        "        return (self.sentences[i] + (self.labels[i], ))\n",
        "\n",
        "    def __len__(self):\n",
        "        return (len(self.labels))\n"
      ],
      "execution_count": null,
      "outputs": []
    },
    {
      "cell_type": "code",
      "metadata": {
        "id": "y-f2qbUkEEVP",
        "colab_type": "code",
        "colab": {}
      },
      "source": [
        "class BERTClassifier(nn.Module):\n",
        "    def __init__(self,\n",
        "                 bert,\n",
        "                 hidden_size = 768,\n",
        "                 num_classes=4,\n",
        "                 dr_rate=None,\n",
        "                 params=None):\n",
        "        super(BERTClassifier, self).__init__()\n",
        "        self.bert = bert\n",
        "        self.dr_rate = dr_rate\n",
        "                 \n",
        "        self.classifier = nn.Linear(hidden_size , num_classes)\n",
        "        if dr_rate:\n",
        "            self.dropout = nn.Dropout(p=dr_rate)\n",
        "    \n",
        "    def gen_attention_mask(self, token_ids, valid_length):\n",
        "        attention_mask = torch.zeros_like(token_ids)\n",
        "        for i, v in enumerate(valid_length):\n",
        "            attention_mask[i][:v] = 1\n",
        "        return attention_mask.float()\n",
        "\n",
        "    def forward(self, token_ids, valid_length, segment_ids):\n",
        "        attention_mask = self.gen_attention_mask(token_ids, valid_length)\n",
        "        \n",
        "        _, pooler = self.bert(input_ids = token_ids, token_type_ids = segment_ids.long(), attention_mask = attention_mask.float().to(token_ids.device))\n",
        "        if self.dr_rate:\n",
        "            out = self.dropout(pooler)\n",
        "        return self.classifier(out)"
      ],
      "execution_count": null,
      "outputs": []
    },
    {
      "cell_type": "markdown",
      "metadata": {
        "id": "QlLrCM76Zg9V",
        "colab_type": "text"
      },
      "source": [
        "# 3. 학습"
      ]
    },
    {
      "cell_type": "code",
      "metadata": {
        "id": "c2xP6wwzD4UY",
        "colab_type": "code",
        "colab": {}
      },
      "source": [
        "## Setting parameters\n",
        "max_len = 64\n",
        "batch_size = 64\n",
        "warmup_ratio = 0.1\n",
        "num_epochs = 1\n",
        "max_grad_norm = 1 \n",
        "log_interval = 200 \n",
        "learning_rate =  5e-5"
      ],
      "execution_count": null,
      "outputs": []
    },
    {
      "cell_type": "code",
      "metadata": {
        "id": "Y8IyUdYDD7N9",
        "colab_type": "code",
        "colab": {}
      },
      "source": [
        "# train, validation, test set을 나눠주세요\n",
        "from sklearn.model_selection import train_test_split\n",
        "\n",
        "dataset_train, dataset_test = train_test_split(dtls, test_size=0.2, random_state=123)"
      ],
      "execution_count": null,
      "outputs": []
    },
    {
      "cell_type": "code",
      "metadata": {
        "id": "gx6Yeiw0D5Kq",
        "colab_type": "code",
        "colab": {}
      },
      "source": [
        "data_train = BERTDataset(dataset_train, 0, 1, tok, max_len, True, False)\n",
        "data_test = BERTDataset(dataset_test, 0, 1, tok, max_len, True, False)\n",
        "\n",
        "train_dataloader = torch.utils.data.DataLoader(data_train, batch_size=batch_size, num_workers=5)\n",
        "test_dataloader = torch.utils.data.DataLoader(data_test, batch_size=batch_size, num_workers=5)"
      ],
      "execution_count": null,
      "outputs": []
    },
    {
      "cell_type": "code",
      "metadata": {
        "id": "lgvOXHZ0EFdR",
        "colab_type": "code",
        "colab": {}
      },
      "source": [
        "#모델을 만들고 GPU 사용 설정을 해줍니다\n",
        "model = BERTClassifier(bertmodel,  dr_rate=0.5).to(device)"
      ],
      "execution_count": null,
      "outputs": []
    },
    {
      "cell_type": "code",
      "metadata": {
        "id": "t6DX8S2ZEImk",
        "colab_type": "code",
        "colab": {}
      },
      "source": [
        "# Prepare optimizer and schedule (linear warmup and decay)\n",
        "no_decay = ['bias', 'LayerNorm.weight']\n",
        "optimizer_grouped_parameters = [\n",
        "    {'params': [p for n, p in model.named_parameters() if not any(nd in n for nd in no_decay)], 'weight_decay': 0.01},\n",
        "    {'params': [p for n, p in model.named_parameters() if any(nd in n for nd in no_decay)], 'weight_decay': 0.0}\n",
        "]"
      ],
      "execution_count": null,
      "outputs": []
    },
    {
      "cell_type": "code",
      "metadata": {
        "id": "O4Qr7GfiEJ6x",
        "colab_type": "code",
        "colab": {}
      },
      "source": [
        "#옵티마이저와 손실함수 설정\n",
        "optimizer = AdamW(optimizer_grouped_parameters, lr=learning_rate)\n",
        "loss_fn = nn.CrossEntropyLoss()\n",
        "\n",
        "t_total = len(train_dataloader) * num_epochs\n",
        "warmup_step = int(t_total * warmup_ratio)\n",
        "\n",
        "scheduler = WarmupLinearSchedule(optimizer, warmup_steps=warmup_step, t_total=t_total)\n",
        "\n",
        "#정확도를 계산하기 위한 함수\n",
        "def calc_accuracy(X,Y):\n",
        "    max_vals, max_indices = torch.max(X, 1)\n",
        "    train_acc = (max_indices == Y).sum().data.cpu().numpy()/max_indices.size()[0]\n",
        "    return train_acc"
      ],
      "execution_count": null,
      "outputs": []
    },
    {
      "cell_type": "code",
      "metadata": {
        "id": "1rnTrSSpELRg",
        "colab_type": "code",
        "colab": {
          "base_uri": "https://localhost:8080/",
          "height": 175,
          "referenced_widgets": [
            "43289c26c0324a3d92efd43cc43ed99a",
            "b23353fcb0e24765b901439f5ff81707",
            "4e1af7d0eb21408490a59a39843ba46b",
            "e3617a8ae7fd4a3d844df08ccbbd5bf1",
            "7559946bc5ec46e1b5f05a6996bbbb88",
            "57a6ad1f7f1c48ba9ff44ca9e6f2059c",
            "3a62ea2ec3c94b6090f17a28a9e0b845",
            "a6e46a6d04f34d0c8250813ea389fd50",
            "9dad7e3188664d8d9373e729985875ef",
            "af76a835c2244526b2582c44a21b86df",
            "579bc64720fe4ef88c37d1bf1ff4f33f",
            "d587bc43355c43669dcd621e6ac768d6",
            "944643e29fdf4f9280cca4ae5902d12f",
            "7a148fa7b08d4d61a8e8b3b059fdbc4a",
            "de8002dd8b2b4ca28568be68e8e6d222",
            "ad6c5fa0ffb244e4b2aca40df27ee3d1"
          ]
        },
        "outputId": "78ceb3cb-ea84-462e-c768-185459293d11"
      },
      "source": [
        "#학습 과정\n",
        "for e in range(num_epochs):\n",
        "    train_acc = 0.0\n",
        "    test_acc = 0.0\n",
        "    model.train()\n",
        "    for batch_id, (token_ids, valid_length, segment_ids, label) in enumerate(tqdm(train_dataloader)):\n",
        "        optimizer.zero_grad() \n",
        "        token_ids = token_ids.long().to(device) \n",
        "        segment_ids = segment_ids.long().to(device) \n",
        "        valid_length= valid_length \n",
        "        label = label.long().to(device) \n",
        "        out = model(token_ids, valid_length, segment_ids) \n",
        "        loss = loss_fn(out, label) \n",
        "        loss.backward() \n",
        "        torch.nn.utils.clip_grad_norm_(model.parameters(), max_grad_norm) \n",
        "        optimizer.step() \n",
        "        scheduler.step()  # Update learning rate schedule \n",
        "        train_acc += calc_accuracy(out, label)  \n",
        "        if batch_id % log_interval == 0: \n",
        "            print(\"epoch {} batch id {} loss {} train acc {}\".format(e+1, batch_id+1, loss.data.cpu().numpy(), train_acc / (batch_id+1))) \n",
        "    print(\"epoch {} train acc {}\".format(e+1, train_acc / (batch_id+1))) \n",
        "    model.eval() #모델 평가 부분 \n",
        "    for batch_id, (token_ids, valid_length, segment_ids, label) in enumerate(tqdm(test_dataloader)):\n",
        "        token_ids = token_ids.long().to(device)\n",
        "        segment_ids = segment_ids.long().to(device)\n",
        "        valid_length= valid_length\n",
        "        label = label.long().to(device)\n",
        "        out = model(token_ids, valid_length, segment_ids)\n",
        "        test_acc += calc_accuracy(out, label)\n",
        "    print(\"epoch {} test acc {}\".format(e+1, test_acc / (batch_id+1)))"
      ],
      "execution_count": null,
      "outputs": [
        {
          "output_type": "display_data",
          "data": {
            "application/vnd.jupyter.widget-view+json": {
              "model_id": "43289c26c0324a3d92efd43cc43ed99a",
              "version_minor": 0,
              "version_major": 2
            },
            "text/plain": [
              "HBox(children=(FloatProgress(value=0.0, max=168.0), HTML(value='')))"
            ]
          },
          "metadata": {
            "tags": []
          }
        },
        {
          "output_type": "stream",
          "text": [
            "epoch 1 batch id 1 loss 0.10972613841295242 train acc 0.96875\n",
            "\n",
            "epoch 1 train acc 0.9807477678571429\n"
          ],
          "name": "stdout"
        },
        {
          "output_type": "display_data",
          "data": {
            "application/vnd.jupyter.widget-view+json": {
              "model_id": "9dad7e3188664d8d9373e729985875ef",
              "version_minor": 0,
              "version_major": 2
            },
            "text/plain": [
              "HBox(children=(FloatProgress(value=0.0, max=63.0), HTML(value='')))"
            ]
          },
          "metadata": {
            "tags": []
          }
        },
        {
          "output_type": "stream",
          "text": [
            "\n",
            "epoch 1 test acc 0.8313492063492064\n"
          ],
          "name": "stdout"
        }
      ]
    },
    {
      "cell_type": "code",
      "metadata": {
        "id": "b4UA7SNAkSMC",
        "colab_type": "code",
        "colab": {}
      },
      "source": [
        "'''\n",
        "# 차후 사용을 위해 학습된 모델을 저장했습니다\n",
        "torch.save(model.state_dict(), 'drive/My Drive//kobert_ending_finale.pt')\n",
        "'''"
      ],
      "execution_count": null,
      "outputs": []
    },
    {
      "cell_type": "markdown",
      "metadata": {
        "id": "3aUX2jULZlqd",
        "colab_type": "text"
      },
      "source": [
        "#4 평가"
      ]
    },
    {
      "cell_type": "code",
      "metadata": {
        "id": "_EBIlrWJclRG",
        "colab_type": "code",
        "colab": {}
      },
      "source": [
        "##################################################\n",
        "# 평가용 Test_set을 모델에 입력하기 위해 형식을 맞춰줍니다\n",
        "\n",
        "sentence_eval[\"emotion\"] = sentence_eval[\"emotion\"].apply(label)\n",
        "\n",
        "dtls_eval = [list(sentence_eval.iloc[i,:]) for i in range(len(sentence_eval))]\n",
        "\n",
        "data_test = BERTDataset(dtls_eval, 0, 1, tok, max_len, True, False)\n",
        "test_dataloader = torch.utils.data.DataLoader(data_test, batch_size=batch_size, num_workers=5)"
      ],
      "execution_count": null,
      "outputs": []
    },
    {
      "cell_type": "code",
      "metadata": {
        "id": "aiSQF4Bhc5p6",
        "colab_type": "code",
        "colab": {
          "base_uri": "https://localhost:8080/",
          "height": 143,
          "referenced_widgets": [
            "a5fea7f256da4931a8222c41ad623153",
            "52c1c004df5749d689f549856831866b",
            "a089b6023cdf40cc83a9a99ffed45d9b",
            "dd066de4072745e49eff18dad8950461",
            "ac15c6077a50466982af43625443785a",
            "9ed6a9a03d2f478e89a2b19fa31b8b9f",
            "762b6a9d97ed4cb5bdfce2ba50662c46",
            "226c92fa9d64409b97db043675bf2d46"
          ]
        },
        "outputId": "debfdd2f-9792-41a2-a66f-35ab4eda5386"
      },
      "source": [
        "# 해당 데이터에 대해 분류를 시작합니다\n",
        "model.eval()\n",
        "answer=[]\n",
        "train_acc = 0.0\n",
        "test_acc = 0.0\n",
        "for batch_id, (token_ids, valid_length, segment_ids, label) in enumerate(tqdm_notebook(test_dataloader)):\n",
        "  token_ids = token_ids.long().to(device)\n",
        "  segment_ids = segment_ids.long().to(device)\n",
        "  valid_length= valid_length\n",
        "  label = label.long().to(device)\n",
        "  out = model(token_ids, valid_length, segment_ids)\n",
        "  max_vals, max_indices = torch.max(out, 1)\n",
        "  answer.append(max_indices.cpu().clone().numpy())\n",
        "  test_acc += calc_accuracy(out, label)\n",
        "print('정답률: ',test_acc / (batch_id+1))"
      ],
      "execution_count": null,
      "outputs": [
        {
          "output_type": "stream",
          "text": [
            "/usr/local/lib/python3.6/dist-packages/ipykernel_launcher.py:6: TqdmDeprecationWarning: This function will be removed in tqdm==5.0.0\n",
            "Please use `tqdm.notebook.tqdm` instead of `tqdm.tqdm_notebook`\n",
            "  \n"
          ],
          "name": "stderr"
        },
        {
          "output_type": "display_data",
          "data": {
            "application/vnd.jupyter.widget-view+json": {
              "model_id": "a5fea7f256da4931a8222c41ad623153",
              "version_minor": 0,
              "version_major": 2
            },
            "text/plain": [
              "HBox(children=(FloatProgress(value=0.0, max=63.0), HTML(value='')))"
            ]
          },
          "metadata": {
            "tags": []
          }
        },
        {
          "output_type": "stream",
          "text": [
            "\n",
            "정답률:  0.8313492063492064\n"
          ],
          "name": "stdout"
        }
      ]
    },
    {
      "cell_type": "code",
      "metadata": {
        "id": "umk0FMvic-A1",
        "colab_type": "code",
        "colab": {
          "base_uri": "https://localhost:8080/",
          "height": 279
        },
        "outputId": "3d4a5012-6188-4a89-8fd0-f82acb65f034"
      },
      "source": [
        "# 제출 형식에 맞춰 파일을 저장해줍니다\n",
        "ls = []\n",
        "for i in answer:\n",
        "  ls.extend(i)\n",
        "\n",
        "pred = pd.DataFrame(ls, columns=['Predicted'])\n",
        "df = pd.concat([sentence_eval['raw_text'], pred['Predicted'], sentence_eval['emotion']], axis=1) \n",
        "\n",
        "def test(x):\n",
        "  if x==0.0: return '슬픔'\n",
        "  elif x==1.0: return '기쁨'\n",
        "  elif x==2.0: return '분노'\n",
        "  elif x==3.0: return '공포'\n",
        "  else: return x\n",
        "\n",
        "df[\"Predicted\"] = df[\"Predicted\"].apply(test)\n",
        "df[\"emotion\"] = df[\"emotion\"].apply(test)\n",
        "\n",
        "for i in ['슬픔','기쁨','분노','공포']: \n",
        "  print(i, '개수', len(df[df['emotion'] == i]))\n",
        "  print('예측 개수', len(df[df['emotion'] == i][df['Predicted'] == i]))\n",
        "  print('정답률',len(df[df['emotion'] == i][df['Predicted'] == i])/len(df[df['emotion'] == i]))"
      ],
      "execution_count": null,
      "outputs": [
        {
          "output_type": "stream",
          "text": [
            "슬픔 개수 1000\n",
            "예측 개수 963\n",
            "정답률 0.963\n",
            "기쁨 개수 1000\n",
            "예측 개수 845\n",
            "정답률 0.845\n",
            "분노 개수 1000\n",
            "예측 개수 963\n",
            "정답률 0.963\n",
            "공포 개수 1000\n",
            "예측 개수 563\n",
            "정답률 0.563\n"
          ],
          "name": "stdout"
        },
        {
          "output_type": "stream",
          "text": [
            "/usr/local/lib/python3.6/dist-packages/ipykernel_launcher.py:21: UserWarning: Boolean Series key will be reindexed to match DataFrame index.\n",
            "/usr/local/lib/python3.6/dist-packages/ipykernel_launcher.py:22: UserWarning: Boolean Series key will be reindexed to match DataFrame index.\n"
          ],
          "name": "stderr"
        }
      ]
    },
    {
      "cell_type": "code",
      "metadata": {
        "id": "xLH1XPoC8Gkv",
        "colab_type": "code",
        "colab": {}
      },
      "source": [
        ""
      ],
      "execution_count": null,
      "outputs": []
    }
  ]
}